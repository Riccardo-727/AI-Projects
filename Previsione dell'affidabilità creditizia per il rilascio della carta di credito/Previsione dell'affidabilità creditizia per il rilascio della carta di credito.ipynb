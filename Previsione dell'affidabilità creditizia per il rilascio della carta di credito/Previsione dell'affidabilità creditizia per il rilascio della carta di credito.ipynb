{
 "cells": [
  {
   "cell_type": "markdown",
   "metadata": {},
   "source": [
    "# Previsione dell'affidabilità creditizia per il rilascio della carta di credito\n"
   ]
  },
  {
   "cell_type": "markdown",
   "metadata": {},
   "source": [
    "### *Traccia*\n",
    " \n",
    "\n",
    "\n",
    "Sei stato assunto dalla Pro National Bank come data scientist, il tuo primo incarico consiste nel realizzare un modello in grado di stimare l'affidabilità creditizia dei clienti, al fine di di aiutare il team dedicato a comprendere se accettare o meno la richiesta per il rilascio della carta di credito.\n",
    "\n",
    "A tal fine ti vengono consegnati i dati anonimizzati di clienti che hanno già ottenuto la carta di credito e lo stato del loro debito mensile. \n"
   ]
  },
  {
   "cell_type": "code",
   "execution_count": 1,
   "metadata": {},
   "outputs": [],
   "source": [
    "# import librerie\n",
    "\n",
    "import pandas as pd\n",
    "import numpy as np\n",
    "import matplotlib.pyplot as plt\n",
    "from sklearn.preprocessing import LabelEncoder\n",
    "from sklearn.preprocessing import MinMaxScaler\n",
    "from sklearn.preprocessing import StandardScaler\n",
    "from sklearn.linear_model import LogisticRegression\n",
    "import warnings\n",
    "import seaborn as sns\n",
    "from scipy.stats import chi2_contingency\n",
    "from scipy.stats import pointbiserialr\n",
    "from sklearn.preprocessing import MinMaxScaler\n",
    "from sklearn.preprocessing import StandardScaler\n",
    "from sklearn.model_selection import KFold\n",
    "from sklearn.linear_model import LogisticRegression\n",
    "from sklearn.metrics import confusion_matrix, accuracy_score, recall_score, precision_score, f1_score\n",
    "from statistics import mean\n",
    "from sklearn.tree import DecisionTreeClassifier\n",
    "from sklearn.tree import plot_tree\n",
    "from sklearn.model_selection import train_test_split\n",
    "from sklearn.naive_bayes import GaussianNB, BernoulliNB, MultinomialNB\n",
    "from sklearn.datasets import make_classification\n",
    "from sklearn.svm import SVC\n",
    "\n"
   ]
  },
  {
   "cell_type": "code",
   "execution_count": 2,
   "metadata": {},
   "outputs": [],
   "source": [
    "# read the data\n",
    "\n",
    "credit_record = pd.read_csv(\"credit_record.csv\")\n",
    "application_record = pd.read_csv(\"application_record.csv\")\n"
   ]
  },
  {
   "cell_type": "markdown",
   "metadata": {},
   "source": [
    "### Creazione della variabile target\n",
    "\n",
    "#### MEOTODO 1\n",
    "\n",
    "* se un cliente ha la prevalenza della classe 'C', ovvero sono più i mesi in cui ha saldato il debito rispetto agli altri gli verrà assegnata la classe 0 (affidabile) altrimenti 1 (non afffidabile)\n",
    "\n",
    "* * la classe 1 viene assegnata ai clienti non affidabili perchè lo scopo del modello è quello di studiare l affidabilità creditizia dei clienti, di consegunza per una banca è più importante selezionare i clienti non affidabili (con cui si avranno problemi nella riscossione del credito) piuttosto che gli altri.\n",
    "\n",
    "* per il momento vengono esclusi tutti i clienti che non hanno mai contratto debiti in quanto non forniscono informazioni riguardo la loro affidabilità\n"
   ]
  },
  {
   "cell_type": "code",
   "execution_count": 228,
   "metadata": {},
   "outputs": [],
   "source": [
    "def classify_creditor(credit_record):\n",
    "    \"\"\"\n",
    "    Classifies a creditor as good (1) or bad (0) based on their credit history.\n",
    "    \n",
    "    Args:\n",
    "    credit_history (dataframe): A dataframe containing\n",
    "                           'ID CLIENT', 'MONTHS_BALANCE', 'STATUS'.\n",
    "                           \n",
    "    Returns:\n",
    "    a dataframe containing\n",
    "                        'ID CLIENT', 'RELIABILITY'\n",
    "    \"\"\"\n",
    "    \n",
    "    # eliminate customers who have never had debt because they do not provide information regarding reliability\n",
    "\n",
    "    # Group by ID and check if all values in STATUS are 'X' for each ID\n",
    "    ids_to_remove = credit_record.groupby('ID').filter(lambda x: (x['STATUS'] == 'X').all())['ID'].unique()\n",
    "\n",
    "    # delete ID that have always 'X' in STATUS columns\n",
    "    cleaned_credit_records = credit_record[~credit_record['ID'].isin(ids_to_remove)]\n",
    "\n",
    "    # for each id it checks whether the value c of the status column prevails\n",
    "    prevalence_of_c = cleaned_credit_records.groupby('ID')['STATUS'].apply(lambda x: (x == 'C').mean())\n",
    "    classification = (~ (prevalence_of_c >= 0.5)).astype(int)\n",
    "\n",
    "    # add a new colums 'Classification' at the dataframe\n",
    "    cleaned_credit_records['CLASSIFICATION'] = cleaned_credit_records['ID'].map(classification)\n",
    "\n",
    "    # delete ID duplciate\n",
    "    cleaned_credit_records = cleaned_credit_records[['ID', 'CLASSIFICATION']].drop_duplicates(subset='ID', keep='first')\n",
    "\n",
    "    return cleaned_credit_records\n",
    "\n",
    "    \n"
   ]
  },
  {
   "cell_type": "markdown",
   "metadata": {},
   "source": [
    "#### METODO 2\n",
    "\n",
    "*  clienti che hannno solo X, ovvero non hanno mai riscontrato debiti, vengono eliminati dal dataset.\n",
    "*  ai clienti con almeno una volta lo status 4 o 5 viene assegnata la classe 1 indipendentemente dalle altre condizioni.\n",
    "*  ai clienti che mostrano trend negativi nel pagamento di almeno 3 valori di status partendo da 0 (esempio mese -2, 0 mese -1, 1 mese 0, 2     opppure mese -2, 1 mese -1, 2 mese 0, 3) viene assegnata la classe 1.\n",
    "*  ai clienti con valori della classe C inferiori al 30% viene assegnata la classe 1.\n",
    "*  a tutti gli altri clienti viene assegnata la classe 0.\n"
   ]
  },
  {
   "cell_type": "code",
   "execution_count": 229,
   "metadata": {},
   "outputs": [],
   "source": [
    "def classify_creditor_2(credit_record):\n",
    "    \"\"\"\n",
    "    Classifies a creditor as good (0) or bad (1) based on their credit history.\n",
    "    \n",
    "    Args:\n",
    "    credit_record (dataframe): A dataframe containing\n",
    "                           'ID', 'MONTHS_BALANCE', 'STATUS'.\n",
    "                           \n",
    "    Returns:\n",
    "    a dataframe containing\n",
    "                        'ID', 'RELIABILITY'\n",
    "    \"\"\"\n",
    "    \n",
    "    # Step 1: Remove customers who have only 'X' in their STATUS, which means they never had debt.\n",
    "    credit_record = credit_record[credit_record['STATUS'] != 'X']\n",
    "    grouped = credit_record.groupby('ID')\n",
    "\n",
    "    # Step 2: Classify as bad (1) if any STATUS is '4' or '5'.\n",
    "    has_bad_status = grouped['STATUS'].apply(lambda x: any(x.isin(['4', '5']))).astype(int)\n",
    "\n",
    "    # Step 3: Identify negative payment trends.\n",
    "    def has_negative_trend(group):\n",
    "        status_values = group['STATUS'].replace({'C': -1, 'X': -1}).astype(int)\n",
    "        return (status_values.diff().fillna(0) > 0).sum() >= 3\n",
    "\n",
    "    negative_trend = grouped.apply(has_negative_trend).astype(int)\n",
    "    \n",
    "    # Step 4: Check if 'C' values are less than 30% for each ID.\n",
    "    less_than_30pc_C = grouped['STATUS'].apply(lambda x: (x == 'C').mean() < 0.3).astype(int)\n",
    "\n",
    "    # Combine the conditions\n",
    "    classification = (has_bad_status | negative_trend | less_than_30pc_C)\n",
    "\n",
    "    # Step 5: Classify all others as good (0).\n",
    "    # Note: By default, any ID not classified as bad (1) is already considered good (0).\n",
    "    \n",
    "    # Construct the final dataframe with ID and RELIABILITY.\n",
    "    final_df = classification.reset_index(name='CLASSIFICATION')\n",
    "    \n",
    "    return final_df\n",
    "\n"
   ]
  },
  {
   "cell_type": "markdown",
   "metadata": {},
   "source": [
    "### !!!!!!! Attenzione !!!!!!!\n",
    "\n",
    "Selezionare togliendo il commento il modo in cui si desidera classificare i clienti"
   ]
  },
  {
   "cell_type": "code",
   "execution_count": 230,
   "metadata": {},
   "outputs": [],
   "source": [
    "credit_records_1 = classify_creditor(credit_record)\n",
    "#credit_records_1 = classify_creditor_2(credit_record)"
   ]
  },
  {
   "cell_type": "markdown",
   "metadata": {},
   "source": [
    "#### Aggiunta della colonna TARGET al dataframe application_recors\n"
   ]
  },
  {
   "cell_type": "code",
   "execution_count": 231,
   "metadata": {},
   "outputs": [],
   "source": [
    "warnings.filterwarnings('ignore')\n",
    "\n",
    "credit_records_1.set_index('ID', inplace=True)\n",
    "\n",
    "application_record['TARGET'] = application_record[application_record['ID'].isin(credit_records_1.index)]['ID'].map(credit_records_1['CLASSIFICATION'].to_dict())\n",
    "application_record = application_record.dropna(subset=['TARGET'])\n",
    "\n"
   ]
  },
  {
   "cell_type": "markdown",
   "metadata": {},
   "source": [
    "### Pulizia del dataset"
   ]
  },
  {
   "cell_type": "markdown",
   "metadata": {},
   "source": [
    "* elimino le colonne con dati mancanti almeno pari al 25%"
   ]
  },
  {
   "cell_type": "code",
   "execution_count": 232,
   "metadata": {},
   "outputs": [],
   "source": [
    "for i in application_record.columns:\n",
    "    \n",
    "    to_delete = application_record[i].isna().sum()/len(application_record) >= 0.25\n",
    "    \n",
    "    if to_delete:\n",
    "        application_record = application_record.drop(i, axis='columns') \n"
   ]
  },
  {
   "cell_type": "markdown",
   "metadata": {},
   "source": [
    "* elimino le righe con dati mancanti almeno pari al 25%"
   ]
  },
  {
   "cell_type": "code",
   "execution_count": 233,
   "metadata": {},
   "outputs": [
    {
     "data": {
      "text/plain": [
       "'\\nto_remove = row_na.index.values\\napplication_record = application_record.drop(to_remove)\\napplication_record.shape\\n'"
      ]
     },
     "execution_count": 233,
     "metadata": {},
     "output_type": "execute_result"
    }
   ],
   "source": [
    "row_na = application_record.isna().sum(axis=1)\n",
    "row_na = row_na[row_na >= application_record.shape[1]*0.25] \n",
    "row_na\n",
    "\n",
    "# there aren't row to delete\n",
    "\n",
    "\"\"\"\n",
    "to_remove = row_na.index.values\n",
    "application_record = application_record.drop(to_remove)\n",
    "application_record.shape\n",
    "\"\"\"\n"
   ]
  },
  {
   "cell_type": "markdown",
   "metadata": {},
   "source": [
    "* Imputazione dei dati mancanti"
   ]
  },
  {
   "cell_type": "code",
   "execution_count": 234,
   "metadata": {},
   "outputs": [
    {
     "data": {
      "text/plain": [
       "ID                     0\n",
       "CODE_GENDER            0\n",
       "FLAG_OWN_CAR           0\n",
       "FLAG_OWN_REALTY        0\n",
       "CNT_CHILDREN           0\n",
       "AMT_INCOME_TOTAL       0\n",
       "NAME_INCOME_TYPE       0\n",
       "NAME_EDUCATION_TYPE    0\n",
       "NAME_FAMILY_STATUS     0\n",
       "NAME_HOUSING_TYPE      0\n",
       "DAYS_BIRTH             0\n",
       "DAYS_EMPLOYED          0\n",
       "FLAG_MOBIL             0\n",
       "FLAG_WORK_PHONE        0\n",
       "FLAG_PHONE             0\n",
       "FLAG_EMAIL             0\n",
       "CNT_FAM_MEMBERS        0\n",
       "TARGET                 0\n",
       "dtype: int64"
      ]
     },
     "execution_count": 234,
     "metadata": {},
     "output_type": "execute_result"
    }
   ],
   "source": [
    "columns_with_missing_data = application_record.count() - application_record.shape[0]\n",
    "columns_with_missing_data\n",
    "\n",
    "# there aren't columns with missing data"
   ]
  },
  {
   "cell_type": "markdown",
   "metadata": {},
   "source": [
    "* Studio le relazioni tra le features e la variabile di risposta"
   ]
  },
  {
   "cell_type": "markdown",
   "metadata": {},
   "source": [
    "Per verificare la correlazione tra features e varibile TARGET si userà:\n",
    "\n",
    "1. il metodo di Cramer: quando la variabile di risposta è confrontata con una variabile categorica.\n",
    "\n",
    "2. il metodo Punto-Biseriale: quando la variabile di risposta è confrontata con una variabile continua o discreta.\n"
   ]
  },
  {
   "cell_type": "code",
   "execution_count": 235,
   "metadata": {},
   "outputs": [],
   "source": [
    "# cramer\n",
    "\n",
    "def cramers_v(x, y):\n",
    "    confusion_matrix = pd.crosstab(x, y)\n",
    "    chi2, _, _, _ = chi2_contingency(confusion_matrix)\n",
    "    n = confusion_matrix.sum().sum()\n",
    "    phi2 = chi2 / n\n",
    "    r, k = confusion_matrix.shape\n",
    "    phi2corr = max(0, phi2 - ((k-1)*(r-1))/(n-1))    \n",
    "    rcorr = r - ((r-1)**2)/(n-1)\n",
    "    kcorr = k - ((k-1)**2)/(n-1)\n",
    "    return np.sqrt(phi2corr / min((kcorr-1), (rcorr-1)))"
   ]
  },
  {
   "cell_type": "code",
   "execution_count": 236,
   "metadata": {},
   "outputs": [
    {
     "name": "stdout",
     "output_type": "stream",
     "text": [
      "Correlazione tra TARGET e CODE_GENDER: 0.0\n",
      "Correlazione tra TARGET e FLAG_OWN_CAR: 0.0\n",
      "Correlazione tra TARGET e FLAG_OWN_REALTY: 0.008477525314573945\n",
      "Correlazione tra TARGET e CNT_CHILDREN: 0.007379848345701687\n",
      "Correlazione tra TARGET e NAME_INCOME_TYPE: 0.007713993090294961\n",
      "Correlazione tra TARGET e NAME_EDUCATION_TYPE: 0.026379723499971\n",
      "Correlazione tra TARGET e NAME_FAMILY_STATUS: 0.009951927103532718\n",
      "Correlazione tra TARGET e NAME_NAME_HOUSING_TYPE: 0.0138182731040559\n",
      "Correlazione tra TARGET e NAME_FLAG_MOBIL: nan\n",
      "Correlazione tra TARGET e NAME_FLAG_WORK_PHONE: 0.00806174606793808\n",
      "Correlazione tra TARGET e NAME_FLAG_PHONE: 0.00816117145088411\n",
      "Correlazione tra TARGET e FLAG_EMAIL: 0.0\n"
     ]
    }
   ],
   "source": [
    "coeff_cramer_CODE_GENDER = cramers_v(application_record['TARGET'], application_record[\"CODE_GENDER\"])\n",
    "coeff_cramer_FLAG_OWN_CAR = cramers_v(application_record['TARGET'], application_record[\"FLAG_OWN_CAR\"])\n",
    "coeff_cramer_FLAG_OWN_REALTY = cramers_v(application_record['TARGET'], application_record[\"FLAG_OWN_REALTY\"])\n",
    "coeff_cramer_CNT_CHILDREN = cramers_v(application_record['TARGET'], application_record[\"CNT_CHILDREN\"])\n",
    "coeff_cramer_NAME_INCOME_TYPE = cramers_v(application_record['TARGET'], application_record[\"NAME_INCOME_TYPE\"])\n",
    "coeff_cramer_NAME_EDUCATION_TYPE = cramers_v(application_record['TARGET'], application_record[\"NAME_EDUCATION_TYPE\"])\n",
    "coeff_cramer_NAME_FAMILY_STATUS = cramers_v(application_record['TARGET'], application_record[\"NAME_FAMILY_STATUS\"])\n",
    "coeff_cramer_NAME_NAME_HOUSING_TYPE = cramers_v(application_record['TARGET'], application_record[\"NAME_HOUSING_TYPE\"])\n",
    "coeff_cramer_NAME_FLAG_MOBIL = cramers_v(application_record['TARGET'], application_record[\"FLAG_MOBIL\"])\n",
    "coeff_cramer_NAME_FLAG_WORK_PHONE = cramers_v(application_record['TARGET'], application_record[\"FLAG_WORK_PHONE\"])\n",
    "coeff_cramer_NAME_FLAG_PHONE = cramers_v(application_record['TARGET'], application_record[\"FLAG_PHONE\"])\n",
    "coeff_cramer_FLAG_EMAIL = cramers_v(application_record['TARGET'], application_record[\"FLAG_EMAIL\"])\n",
    "\n",
    "\n",
    "print(f\"Correlazione tra TARGET e CODE_GENDER: {coeff_cramer_CODE_GENDER}\")\n",
    "print(f\"Correlazione tra TARGET e FLAG_OWN_CAR: {coeff_cramer_FLAG_OWN_CAR}\")\n",
    "print(f\"Correlazione tra TARGET e FLAG_OWN_REALTY: {coeff_cramer_FLAG_OWN_REALTY}\")\n",
    "print(f\"Correlazione tra TARGET e CNT_CHILDREN: {coeff_cramer_CNT_CHILDREN}\")\n",
    "print(f\"Correlazione tra TARGET e NAME_INCOME_TYPE: {coeff_cramer_NAME_INCOME_TYPE}\")\n",
    "print(f\"Correlazione tra TARGET e NAME_EDUCATION_TYPE: {coeff_cramer_NAME_EDUCATION_TYPE}\")\n",
    "print(f\"Correlazione tra TARGET e NAME_FAMILY_STATUS: {coeff_cramer_NAME_FAMILY_STATUS}\")\n",
    "print(f\"Correlazione tra TARGET e NAME_NAME_HOUSING_TYPE: {coeff_cramer_NAME_NAME_HOUSING_TYPE}\")\n",
    "print(f\"Correlazione tra TARGET e NAME_FLAG_MOBIL: {coeff_cramer_NAME_FLAG_MOBIL}\")\n",
    "print(f\"Correlazione tra TARGET e NAME_FLAG_WORK_PHONE: {coeff_cramer_NAME_FLAG_WORK_PHONE}\")\n",
    "print(f\"Correlazione tra TARGET e NAME_FLAG_PHONE: {coeff_cramer_NAME_FLAG_PHONE}\")\n",
    "print(f\"Correlazione tra TARGET e FLAG_EMAIL: {coeff_cramer_FLAG_EMAIL}\")\n",
    "\n"
   ]
  },
  {
   "cell_type": "code",
   "execution_count": 237,
   "metadata": {},
   "outputs": [
    {
     "name": "stdout",
     "output_type": "stream",
     "text": [
      "Correlazione tra TARGET e AMT_INCOME_TOTAL: 0.021874219343026066\n",
      "Correlazione tra TARGET e DAYS_BIRTH: -0.007197487605228776\n",
      "Correlazione tra TARGET e DAYS_EMPLOYED: 0.00781448150899685\n",
      "Correlazione tra TARGET e CNT_FAM_MEMBERS: -0.010495479594574714\n"
     ]
    }
   ],
   "source": [
    "# punto biseriale\n",
    "\n",
    "corr_biseriale_AMT_INCOME_TOTAL, p_value_AMT_INCOME_TOTAL = pointbiserialr(application_record['TARGET'], application_record[\"AMT_INCOME_TOTAL\"])\n",
    "corr_biseriale_DAYS_BIRTH, p_value_DAYS_BIRTH = pointbiserialr(application_record['TARGET'], application_record[\"DAYS_BIRTH\"])\n",
    "corr_biseriale_DAYS_EMPLOYED, p_value_DAYS_EMPLOYED = pointbiserialr(application_record['TARGET'], application_record[\"DAYS_EMPLOYED\"])\n",
    "corr_biseriale_CNT_FAM_MEMBERS, p_value_CNT_FAM_MEMBERS = pointbiserialr(application_record['TARGET'], application_record[\"CNT_FAM_MEMBERS\"])\n",
    "\n",
    "\n",
    "print(f\"Correlazione tra TARGET e AMT_INCOME_TOTAL: {corr_biseriale_AMT_INCOME_TOTAL}\")\n",
    "print(f\"Correlazione tra TARGET e DAYS_BIRTH: {corr_biseriale_DAYS_BIRTH}\")\n",
    "print(f\"Correlazione tra TARGET e DAYS_EMPLOYED: {corr_biseriale_DAYS_EMPLOYED}\")\n",
    "print(f\"Correlazione tra TARGET e CNT_FAM_MEMBERS: {corr_biseriale_CNT_FAM_MEMBERS}\")\n"
   ]
  },
  {
   "cell_type": "markdown",
   "metadata": {},
   "source": [
    "Le correlazioni riportate con i due metodi sembrano non essere significative, alcune sono perfino esattamente pari a zero.\n",
    "Si procede inizialmente tenendo tutte le varibili e infine si elimineranno quelle pari a zero confrontando poi il risultato"
   ]
  },
  {
   "cell_type": "markdown",
   "metadata": {},
   "source": [
    "* Label Encoding"
   ]
  },
  {
   "cell_type": "code",
   "execution_count": 238,
   "metadata": {},
   "outputs": [
    {
     "data": {
      "text/html": [
       "<div>\n",
       "<style scoped>\n",
       "    .dataframe tbody tr th:only-of-type {\n",
       "        vertical-align: middle;\n",
       "    }\n",
       "\n",
       "    .dataframe tbody tr th {\n",
       "        vertical-align: top;\n",
       "    }\n",
       "\n",
       "    .dataframe thead th {\n",
       "        text-align: right;\n",
       "    }\n",
       "</style>\n",
       "<table border=\"1\" class=\"dataframe\">\n",
       "  <thead>\n",
       "    <tr style=\"text-align: right;\">\n",
       "      <th></th>\n",
       "      <th>ID</th>\n",
       "      <th>CODE_GENDER</th>\n",
       "      <th>FLAG_OWN_CAR</th>\n",
       "      <th>FLAG_OWN_REALTY</th>\n",
       "      <th>CNT_CHILDREN</th>\n",
       "      <th>AMT_INCOME_TOTAL</th>\n",
       "      <th>NAME_EDUCATION_TYPE</th>\n",
       "      <th>DAYS_BIRTH</th>\n",
       "      <th>DAYS_EMPLOYED</th>\n",
       "      <th>FLAG_MOBIL</th>\n",
       "      <th>...</th>\n",
       "      <th>NAME_FAMILY_STATUS_Separated</th>\n",
       "      <th>NAME_FAMILY_STATUS_Single / not married</th>\n",
       "      <th>NAME_FAMILY_STATUS_Widow</th>\n",
       "      <th>NAME_HOUSING_TYPE_Co-op apartment</th>\n",
       "      <th>NAME_HOUSING_TYPE_House / apartment</th>\n",
       "      <th>NAME_HOUSING_TYPE_Municipal apartment</th>\n",
       "      <th>NAME_HOUSING_TYPE_Office apartment</th>\n",
       "      <th>NAME_HOUSING_TYPE_Rented apartment</th>\n",
       "      <th>NAME_HOUSING_TYPE_With parents</th>\n",
       "      <th>TARGET</th>\n",
       "    </tr>\n",
       "  </thead>\n",
       "  <tbody>\n",
       "    <tr>\n",
       "      <th>0</th>\n",
       "      <td>5008804</td>\n",
       "      <td>1</td>\n",
       "      <td>1</td>\n",
       "      <td>1</td>\n",
       "      <td>0</td>\n",
       "      <td>427500</td>\n",
       "      <td>4</td>\n",
       "      <td>-12005</td>\n",
       "      <td>-4542</td>\n",
       "      <td>1</td>\n",
       "      <td>...</td>\n",
       "      <td>0</td>\n",
       "      <td>0</td>\n",
       "      <td>0</td>\n",
       "      <td>0</td>\n",
       "      <td>0</td>\n",
       "      <td>0</td>\n",
       "      <td>0</td>\n",
       "      <td>1</td>\n",
       "      <td>0</td>\n",
       "      <td>0</td>\n",
       "    </tr>\n",
       "    <tr>\n",
       "      <th>1</th>\n",
       "      <td>5008805</td>\n",
       "      <td>1</td>\n",
       "      <td>1</td>\n",
       "      <td>1</td>\n",
       "      <td>0</td>\n",
       "      <td>427500</td>\n",
       "      <td>4</td>\n",
       "      <td>-12005</td>\n",
       "      <td>-4542</td>\n",
       "      <td>1</td>\n",
       "      <td>...</td>\n",
       "      <td>0</td>\n",
       "      <td>0</td>\n",
       "      <td>0</td>\n",
       "      <td>0</td>\n",
       "      <td>0</td>\n",
       "      <td>0</td>\n",
       "      <td>0</td>\n",
       "      <td>1</td>\n",
       "      <td>0</td>\n",
       "      <td>0</td>\n",
       "    </tr>\n",
       "    <tr>\n",
       "      <th>2</th>\n",
       "      <td>5008806</td>\n",
       "      <td>1</td>\n",
       "      <td>1</td>\n",
       "      <td>1</td>\n",
       "      <td>0</td>\n",
       "      <td>112500</td>\n",
       "      <td>5</td>\n",
       "      <td>-21474</td>\n",
       "      <td>-1134</td>\n",
       "      <td>1</td>\n",
       "      <td>...</td>\n",
       "      <td>0</td>\n",
       "      <td>0</td>\n",
       "      <td>0</td>\n",
       "      <td>0</td>\n",
       "      <td>1</td>\n",
       "      <td>0</td>\n",
       "      <td>0</td>\n",
       "      <td>0</td>\n",
       "      <td>0</td>\n",
       "      <td>1</td>\n",
       "    </tr>\n",
       "    <tr>\n",
       "      <th>3</th>\n",
       "      <td>5008808</td>\n",
       "      <td>0</td>\n",
       "      <td>0</td>\n",
       "      <td>1</td>\n",
       "      <td>0</td>\n",
       "      <td>270000</td>\n",
       "      <td>5</td>\n",
       "      <td>-19110</td>\n",
       "      <td>-3051</td>\n",
       "      <td>1</td>\n",
       "      <td>...</td>\n",
       "      <td>0</td>\n",
       "      <td>1</td>\n",
       "      <td>0</td>\n",
       "      <td>0</td>\n",
       "      <td>1</td>\n",
       "      <td>0</td>\n",
       "      <td>0</td>\n",
       "      <td>0</td>\n",
       "      <td>0</td>\n",
       "      <td>1</td>\n",
       "    </tr>\n",
       "    <tr>\n",
       "      <th>5</th>\n",
       "      <td>5008810</td>\n",
       "      <td>0</td>\n",
       "      <td>0</td>\n",
       "      <td>1</td>\n",
       "      <td>0</td>\n",
       "      <td>270000</td>\n",
       "      <td>5</td>\n",
       "      <td>-19110</td>\n",
       "      <td>-3051</td>\n",
       "      <td>1</td>\n",
       "      <td>...</td>\n",
       "      <td>0</td>\n",
       "      <td>1</td>\n",
       "      <td>0</td>\n",
       "      <td>0</td>\n",
       "      <td>1</td>\n",
       "      <td>0</td>\n",
       "      <td>0</td>\n",
       "      <td>0</td>\n",
       "      <td>0</td>\n",
       "      <td>0</td>\n",
       "    </tr>\n",
       "    <tr>\n",
       "      <th>...</th>\n",
       "      <td>...</td>\n",
       "      <td>...</td>\n",
       "      <td>...</td>\n",
       "      <td>...</td>\n",
       "      <td>...</td>\n",
       "      <td>...</td>\n",
       "      <td>...</td>\n",
       "      <td>...</td>\n",
       "      <td>...</td>\n",
       "      <td>...</td>\n",
       "      <td>...</td>\n",
       "      <td>...</td>\n",
       "      <td>...</td>\n",
       "      <td>...</td>\n",
       "      <td>...</td>\n",
       "      <td>...</td>\n",
       "      <td>...</td>\n",
       "      <td>...</td>\n",
       "      <td>...</td>\n",
       "      <td>...</td>\n",
       "      <td>...</td>\n",
       "    </tr>\n",
       "    <tr>\n",
       "      <th>434808</th>\n",
       "      <td>5149828</td>\n",
       "      <td>1</td>\n",
       "      <td>1</td>\n",
       "      <td>1</td>\n",
       "      <td>0</td>\n",
       "      <td>315000</td>\n",
       "      <td>5</td>\n",
       "      <td>-17348</td>\n",
       "      <td>-2420</td>\n",
       "      <td>1</td>\n",
       "      <td>...</td>\n",
       "      <td>0</td>\n",
       "      <td>0</td>\n",
       "      <td>0</td>\n",
       "      <td>0</td>\n",
       "      <td>1</td>\n",
       "      <td>0</td>\n",
       "      <td>0</td>\n",
       "      <td>0</td>\n",
       "      <td>0</td>\n",
       "      <td>1</td>\n",
       "    </tr>\n",
       "    <tr>\n",
       "      <th>434809</th>\n",
       "      <td>5149834</td>\n",
       "      <td>0</td>\n",
       "      <td>0</td>\n",
       "      <td>1</td>\n",
       "      <td>0</td>\n",
       "      <td>157500</td>\n",
       "      <td>4</td>\n",
       "      <td>-12387</td>\n",
       "      <td>-1325</td>\n",
       "      <td>1</td>\n",
       "      <td>...</td>\n",
       "      <td>0</td>\n",
       "      <td>0</td>\n",
       "      <td>0</td>\n",
       "      <td>0</td>\n",
       "      <td>1</td>\n",
       "      <td>0</td>\n",
       "      <td>0</td>\n",
       "      <td>0</td>\n",
       "      <td>0</td>\n",
       "      <td>1</td>\n",
       "    </tr>\n",
       "    <tr>\n",
       "      <th>434810</th>\n",
       "      <td>5149838</td>\n",
       "      <td>0</td>\n",
       "      <td>0</td>\n",
       "      <td>1</td>\n",
       "      <td>0</td>\n",
       "      <td>157500</td>\n",
       "      <td>4</td>\n",
       "      <td>-12387</td>\n",
       "      <td>-1325</td>\n",
       "      <td>1</td>\n",
       "      <td>...</td>\n",
       "      <td>0</td>\n",
       "      <td>0</td>\n",
       "      <td>0</td>\n",
       "      <td>0</td>\n",
       "      <td>1</td>\n",
       "      <td>0</td>\n",
       "      <td>0</td>\n",
       "      <td>0</td>\n",
       "      <td>0</td>\n",
       "      <td>1</td>\n",
       "    </tr>\n",
       "    <tr>\n",
       "      <th>434811</th>\n",
       "      <td>5150049</td>\n",
       "      <td>0</td>\n",
       "      <td>0</td>\n",
       "      <td>1</td>\n",
       "      <td>0</td>\n",
       "      <td>283500</td>\n",
       "      <td>5</td>\n",
       "      <td>-17958</td>\n",
       "      <td>-655</td>\n",
       "      <td>1</td>\n",
       "      <td>...</td>\n",
       "      <td>0</td>\n",
       "      <td>0</td>\n",
       "      <td>0</td>\n",
       "      <td>0</td>\n",
       "      <td>1</td>\n",
       "      <td>0</td>\n",
       "      <td>0</td>\n",
       "      <td>0</td>\n",
       "      <td>0</td>\n",
       "      <td>1</td>\n",
       "    </tr>\n",
       "    <tr>\n",
       "      <th>434812</th>\n",
       "      <td>5150337</td>\n",
       "      <td>1</td>\n",
       "      <td>0</td>\n",
       "      <td>1</td>\n",
       "      <td>0</td>\n",
       "      <td>112500</td>\n",
       "      <td>5</td>\n",
       "      <td>-9188</td>\n",
       "      <td>-1193</td>\n",
       "      <td>1</td>\n",
       "      <td>...</td>\n",
       "      <td>0</td>\n",
       "      <td>1</td>\n",
       "      <td>0</td>\n",
       "      <td>0</td>\n",
       "      <td>0</td>\n",
       "      <td>0</td>\n",
       "      <td>0</td>\n",
       "      <td>1</td>\n",
       "      <td>0</td>\n",
       "      <td>1</td>\n",
       "    </tr>\n",
       "  </tbody>\n",
       "</table>\n",
       "<p>33110 rows × 31 columns</p>\n",
       "</div>"
      ],
      "text/plain": [
       "             ID  CODE_GENDER  FLAG_OWN_CAR  FLAG_OWN_REALTY  CNT_CHILDREN  \\\n",
       "0       5008804            1             1                1             0   \n",
       "1       5008805            1             1                1             0   \n",
       "2       5008806            1             1                1             0   \n",
       "3       5008808            0             0                1             0   \n",
       "5       5008810            0             0                1             0   \n",
       "...         ...          ...           ...              ...           ...   \n",
       "434808  5149828            1             1                1             0   \n",
       "434809  5149834            0             0                1             0   \n",
       "434810  5149838            0             0                1             0   \n",
       "434811  5150049            0             0                1             0   \n",
       "434812  5150337            1             0                1             0   \n",
       "\n",
       "        AMT_INCOME_TOTAL  NAME_EDUCATION_TYPE  DAYS_BIRTH  DAYS_EMPLOYED  \\\n",
       "0                 427500                    4      -12005          -4542   \n",
       "1                 427500                    4      -12005          -4542   \n",
       "2                 112500                    5      -21474          -1134   \n",
       "3                 270000                    5      -19110          -3051   \n",
       "5                 270000                    5      -19110          -3051   \n",
       "...                  ...                  ...         ...            ...   \n",
       "434808            315000                    5      -17348          -2420   \n",
       "434809            157500                    4      -12387          -1325   \n",
       "434810            157500                    4      -12387          -1325   \n",
       "434811            283500                    5      -17958           -655   \n",
       "434812            112500                    5       -9188          -1193   \n",
       "\n",
       "        FLAG_MOBIL  ...  NAME_FAMILY_STATUS_Separated  \\\n",
       "0                1  ...                             0   \n",
       "1                1  ...                             0   \n",
       "2                1  ...                             0   \n",
       "3                1  ...                             0   \n",
       "5                1  ...                             0   \n",
       "...            ...  ...                           ...   \n",
       "434808           1  ...                             0   \n",
       "434809           1  ...                             0   \n",
       "434810           1  ...                             0   \n",
       "434811           1  ...                             0   \n",
       "434812           1  ...                             0   \n",
       "\n",
       "        NAME_FAMILY_STATUS_Single / not married  NAME_FAMILY_STATUS_Widow  \\\n",
       "0                                             0                         0   \n",
       "1                                             0                         0   \n",
       "2                                             0                         0   \n",
       "3                                             1                         0   \n",
       "5                                             1                         0   \n",
       "...                                         ...                       ...   \n",
       "434808                                        0                         0   \n",
       "434809                                        0                         0   \n",
       "434810                                        0                         0   \n",
       "434811                                        0                         0   \n",
       "434812                                        1                         0   \n",
       "\n",
       "        NAME_HOUSING_TYPE_Co-op apartment  \\\n",
       "0                                       0   \n",
       "1                                       0   \n",
       "2                                       0   \n",
       "3                                       0   \n",
       "5                                       0   \n",
       "...                                   ...   \n",
       "434808                                  0   \n",
       "434809                                  0   \n",
       "434810                                  0   \n",
       "434811                                  0   \n",
       "434812                                  0   \n",
       "\n",
       "        NAME_HOUSING_TYPE_House / apartment  \\\n",
       "0                                         0   \n",
       "1                                         0   \n",
       "2                                         1   \n",
       "3                                         1   \n",
       "5                                         1   \n",
       "...                                     ...   \n",
       "434808                                    1   \n",
       "434809                                    1   \n",
       "434810                                    1   \n",
       "434811                                    1   \n",
       "434812                                    0   \n",
       "\n",
       "        NAME_HOUSING_TYPE_Municipal apartment  \\\n",
       "0                                           0   \n",
       "1                                           0   \n",
       "2                                           0   \n",
       "3                                           0   \n",
       "5                                           0   \n",
       "...                                       ...   \n",
       "434808                                      0   \n",
       "434809                                      0   \n",
       "434810                                      0   \n",
       "434811                                      0   \n",
       "434812                                      0   \n",
       "\n",
       "        NAME_HOUSING_TYPE_Office apartment  \\\n",
       "0                                        0   \n",
       "1                                        0   \n",
       "2                                        0   \n",
       "3                                        0   \n",
       "5                                        0   \n",
       "...                                    ...   \n",
       "434808                                   0   \n",
       "434809                                   0   \n",
       "434810                                   0   \n",
       "434811                                   0   \n",
       "434812                                   0   \n",
       "\n",
       "        NAME_HOUSING_TYPE_Rented apartment  NAME_HOUSING_TYPE_With parents  \\\n",
       "0                                        1                               0   \n",
       "1                                        1                               0   \n",
       "2                                        0                               0   \n",
       "3                                        0                               0   \n",
       "5                                        0                               0   \n",
       "...                                    ...                             ...   \n",
       "434808                                   0                               0   \n",
       "434809                                   0                               0   \n",
       "434810                                   0                               0   \n",
       "434811                                   0                               0   \n",
       "434812                                   1                               0   \n",
       "\n",
       "        TARGET  \n",
       "0            0  \n",
       "1            0  \n",
       "2            1  \n",
       "3            1  \n",
       "5            0  \n",
       "...        ...  \n",
       "434808       1  \n",
       "434809       1  \n",
       "434810       1  \n",
       "434811       1  \n",
       "434812       1  \n",
       "\n",
       "[33110 rows x 31 columns]"
      ]
     },
     "execution_count": 238,
     "metadata": {},
     "output_type": "execute_result"
    }
   ],
   "source": [
    "application_record['CODE_GENDER'] = application_record['CODE_GENDER'].map({\"M\" : 1, \"F\" : 0})\n",
    "application_record['FLAG_OWN_CAR'] = application_record['FLAG_OWN_CAR'].map({\"Y\" : 1, \"N\" : 0})\n",
    "application_record['FLAG_OWN_REALTY'] = application_record['FLAG_OWN_REALTY'].map({\"Y\" : 1, \"N\" : 0})\n",
    "\n",
    "# one hot encoding\n",
    "application_record= pd.get_dummies(application_record, columns=['NAME_INCOME_TYPE'])\n",
    "application_record = pd.get_dummies(application_record, columns=['NAME_FAMILY_STATUS'])\n",
    "application_record = pd.get_dummies(application_record, columns=['NAME_HOUSING_TYPE'])\n",
    "\n",
    "# ordinal encoding\n",
    "application_record['NAME_EDUCATION_TYPE'] = application_record['NAME_EDUCATION_TYPE'].map({\"Academic degree\" : 1, \"Lower secondary\" : 2, \"Incomplete higher\" : 3, \"Higher education\" : 4, \"Secondary / secondary special\" : 5})\n",
    "\n",
    "# move the target column in the last position\n",
    "target = application_record['TARGET']\n",
    "application_record = application_record.drop(\"TARGET\", axis=1)\n",
    "application_record['TARGET'] = target\n",
    "\n",
    "application_record.astype(int)"
   ]
  },
  {
   "cell_type": "markdown",
   "metadata": {},
   "source": [
    "* Verifico se ci sono squilibri nelle classi"
   ]
  },
  {
   "cell_type": "code",
   "execution_count": 239,
   "metadata": {},
   "outputs": [
    {
     "data": {
      "text/plain": [
       "TARGET\n",
       "1.0    0.61199\n",
       "0.0    0.38801\n",
       "Name: count, dtype: float64"
      ]
     },
     "execution_count": 239,
     "metadata": {},
     "output_type": "execute_result"
    }
   ],
   "source": [
    "application_record['TARGET'].value_counts()/len(application_record)"
   ]
  },
  {
   "cell_type": "markdown",
   "metadata": {},
   "source": [
    "Le classi sono leggermente ma non eccessivamente sbilanciate, quindi inizialmente si possono evitare di utilizzare tecniche di bilanciamento"
   ]
  },
  {
   "cell_type": "markdown",
   "metadata": {},
   "source": [
    "## Modellazione"
   ]
  },
  {
   "cell_type": "markdown",
   "metadata": {},
   "source": [
    "### Regressione Logistica"
   ]
  },
  {
   "cell_type": "code",
   "execution_count": 240,
   "metadata": {},
   "outputs": [],
   "source": [
    "df_validazione = application_record[0:int(len(application_record)*0.5)].drop(\"ID\", axis=1).copy()\n",
    "df_test = application_record[int(len(application_record)*0.5) +1: len(application_record)].drop(\"ID\", axis=1).copy()\n"
   ]
  },
  {
   "cell_type": "code",
   "execution_count": 241,
   "metadata": {},
   "outputs": [],
   "source": [
    "\n",
    "def classification_report(y_true, y_pred):\n",
    "  \n",
    "  return (accuracy_score(y_true, y_pred), precision_score(y_true, y_pred, zero_division='warn'), recall_score(y_true, y_pred) ) \n",
    "\n",
    "\n",
    "def get_coeff_logistic_regression(model, df):\n",
    "\n",
    "  coefficients = model.coef_[0]\n",
    "\n",
    "  feature_names = df.drop(columns=\"TARGET\", axis=1).columns\n",
    "\n",
    "  feature_importance = pd.DataFrame(data=coefficients, index=feature_names, columns=['Coefficient'])\n",
    "\n",
    "  feature_importance['Absolute_Coefficient'] = feature_importance['Coefficient'].abs()\n",
    "\n",
    "  feature_importance = feature_importance.T\n",
    "\n",
    "  absolute_coefficients = feature_importance.loc[['Absolute_Coefficient'], :]\n",
    "\n",
    "  absolute_coefficients = absolute_coefficients.rename(index={ 'Absolute_Coefficient': None })\n",
    "\n",
    "  return absolute_coefficients\n",
    "\n",
    "\n",
    "def logistic_regression(random_seed=0, df_validazione=pd.DataFrame(), n_split=10, balance={0: 1, 1: 1}):\n",
    "  \n",
    "    RANDOM_SEED = random_seed\n",
    "\n",
    "    X = df_validazione.drop(\"TARGET\", axis=1).values\n",
    "    y= df_validazione[\"TARGET\"].values\n",
    "\n",
    "    kf = KFold(n_splits=n_split, shuffle=True, random_state=RANDOM_SEED)\n",
    "\n",
    "    train_score_accuracy_score = []\n",
    "    train_score_recall_score = []\n",
    "    train_score_precision_score = []\n",
    "\n",
    "    test_score_accuracy_score = []\n",
    "    test_score_recall_score = []\n",
    "    test_score_precision_score = []\n",
    "\n",
    "    feature_names = df_validazione.drop(columns=\"TARGET\", axis=1).columns\n",
    "    coeff_regression = pd.DataFrame(columns=feature_names)\n",
    "\n",
    "\n",
    "    for train_index, test_index in kf.split(X):\n",
    "    \n",
    "        X_train, X_test = X[train_index], X[test_index]\n",
    "        y_train, y_test = y[train_index], y[test_index]\n",
    "\n",
    "        ss = MinMaxScaler()\n",
    "        X_train = ss.fit_transform(X_train)\n",
    "        X_test = ss.transform(X_test)\n",
    "\n",
    "        lr = LogisticRegression(class_weight=balance)\n",
    "        lr.fit(X_train, y_train)\n",
    "\n",
    "        coeff_regression = pd.concat([coeff_regression, get_coeff_logistic_regression(lr, df_validazione)], axis=0, ignore_index=True)\n",
    "\n",
    "        y_train_predict = lr.predict(X_train)\n",
    "        y_test_predict = lr.predict(X_test)\n",
    "\n",
    "        train_score_accuracy_score.append(classification_report(y_train, y_train_predict)[0])\n",
    "        train_score_precision_score.append(classification_report(y_train, y_train_predict)[1])\n",
    "        train_score_recall_score.append(classification_report(y_train, y_train_predict)[2])\n",
    "\n",
    "        test_score_accuracy_score.append(classification_report(y_test, y_test_predict)[0])\n",
    "        test_score_precision_score.append(classification_report(y_test, y_test_predict)[1])\n",
    "        test_score_recall_score.append(classification_report(y_test, y_test_predict)[2])\n",
    "\n",
    "\n",
    "    print(f\"Accuratezza media fase training: {mean(train_score_accuracy_score)}\")\n",
    "    print(f\"Precisione media fase training: {mean(train_score_precision_score)}\")\n",
    "    print(f\"Recall medio fase training: {mean(train_score_recall_score)}\")\n",
    "\n",
    "    print(f\"Accuratezza media fase test: {mean(test_score_accuracy_score)}\")\n",
    "    print(f\"Precisione media fase test: {mean(test_score_precision_score)}\")\n",
    "    print(f\"Recall medio fase test: {mean(test_score_recall_score)}\")\n",
    "\n",
    "    print(f\"Media del valore assoluto dei coefficienti di regressione: \\n {coeff_regression.mean().sort_values(ascending=False)}\")\n",
    "\n"
   ]
  },
  {
   "cell_type": "code",
   "execution_count": 242,
   "metadata": {},
   "outputs": [
    {
     "name": "stdout",
     "output_type": "stream",
     "text": [
      "Accuratezza media fase training: 0.6135843394741596\n",
      "Precisione media fase training: 0.6139473309234988\n",
      "Recall medio fase training: 0.9970897719750769\n",
      "Accuratezza media fase test: 0.6126844797641461\n",
      "Precisione media fase test: 0.6135134372827561\n",
      "Recall medio fase test: 0.9962621845346432\n",
      "Media del valore assoluto dei coefficienti di regressione: \n",
      " NAME_HOUSING_TYPE_Co-op apartment          0.688663\n",
      "NAME_EDUCATION_TYPE                        0.614881\n",
      "AMT_INCOME_TOTAL                           0.553145\n",
      "NAME_INCOME_TYPE_Student                   0.340845\n",
      "NAME_HOUSING_TYPE_Rented apartment         0.288172\n",
      "NAME_HOUSING_TYPE_With parents             0.233874\n",
      "NAME_HOUSING_TYPE_Office apartment         0.214813\n",
      "CNT_CHILDREN                               0.162961\n",
      "CNT_FAM_MEMBERS                            0.158744\n",
      "NAME_HOUSING_TYPE_House / apartment        0.119534\n",
      "DAYS_EMPLOYED                              0.110891\n",
      "FLAG_EMAIL                                 0.095203\n",
      "NAME_INCOME_TYPE_Commercial associate      0.095117\n",
      "NAME_INCOME_TYPE_Working                   0.065988\n",
      "DAYS_BIRTH                                 0.065201\n",
      "NAME_FAMILY_STATUS_Separated               0.062390\n",
      "FLAG_PHONE                                 0.061837\n",
      "NAME_INCOME_TYPE_State servant             0.052557\n",
      "NAME_FAMILY_STATUS_Married                 0.048979\n",
      "NAME_HOUSING_TYPE_Municipal apartment      0.040687\n",
      "NAME_INCOME_TYPE_Pensioner                 0.030613\n",
      "FLAG_OWN_CAR                               0.027226\n",
      "FLAG_WORK_PHONE                            0.019042\n",
      "NAME_FAMILY_STATUS_Civil marriage          0.018563\n",
      "NAME_FAMILY_STATUS_Widow                   0.018019\n",
      "FLAG_OWN_REALTY                            0.015187\n",
      "NAME_FAMILY_STATUS_Single / not married    0.013377\n",
      "CODE_GENDER                                0.011852\n",
      "FLAG_MOBIL                                 0.000000\n",
      "dtype: float64\n"
     ]
    }
   ],
   "source": [
    "logistic_regression(df_validazione=df_validazione, balance={0: 1, 1: 1})"
   ]
  },
  {
   "cell_type": "markdown",
   "metadata": {},
   "source": [
    "### Albero Decisionale"
   ]
  },
  {
   "cell_type": "code",
   "execution_count": 243,
   "metadata": {},
   "outputs": [],
   "source": [
    "\n",
    "def Decision_Tree(random_seed=0, df_validazione=pd.DataFrame()):\n",
    "\n",
    "    \n",
    "    RANDOM_SEED = 0\n",
    "\n",
    "    X = df_validazione.drop(\"TARGET\", axis=1).values\n",
    "    y = df_validazione[\"TARGET\"].values\n",
    "\n",
    "    kf = KFold(n_splits=30, shuffle=True, random_state=RANDOM_SEED)\n",
    "\n",
    "    train_score_accuracy = []\n",
    "    train_score_recall = []\n",
    "    train_score_precision = []\n",
    "\n",
    "    test_score_accuracy = []\n",
    "    test_score_recall = []\n",
    "    test_score_precision = []\n",
    "\n",
    "    iterator = 0\n",
    "\n",
    "    for deep in range(2,6,1):   \n",
    "\n",
    "        for train_index, test_index in kf.split(X):\n",
    "\n",
    "            X_train, X_test = X[train_index], X[test_index]\n",
    "            y_train, y_test = y[train_index], y[test_index]\n",
    "\n",
    "            ss = MinMaxScaler()\n",
    "            X_train = ss.fit_transform(X_train)\n",
    "            X_test = ss.transform(X_test)\n",
    "\n",
    "            # numero minimo di osservazioni per foglia \"min_samples_split\" 5% dell insieme di training\n",
    "            # altezza massima dell'albero uguale a 3 per evitare overfitting\n",
    "            dt = DecisionTreeClassifier(criterion='entropy', random_state=RANDOM_SEED, max_depth=deep, min_samples_split=0.05)\n",
    "            dt.fit(X_train, y_train)\n",
    "\n",
    "            y_train_pred = dt.predict(X_train)\n",
    "            y_test_pred = dt.predict(X_test)\n",
    "\n",
    "            train_score_accuracy.append(accuracy_score(y_train, y_train_pred))\n",
    "            train_score_recall.append(recall_score(y_train, y_train_pred))\n",
    "            train_score_precision.append(precision_score(y_train, y_train_pred))\n",
    "\n",
    "            test_score_accuracy.append(accuracy_score(y_test, y_test_pred))\n",
    "            test_score_recall.append(recall_score(y_test, y_test_pred))\n",
    "            test_score_precision.append(precision_score(y_test, y_test_pred))\n",
    "\n",
    "        iterator +=1 \n",
    "\n",
    "        print(f\"\\n\\n interazione: {iterator}  --  altezza: {deep}  --  \\n\\n\")\n",
    "\n",
    "        print(f\"Accuratezza media fase training: {mean(train_score_accuracy)}\")\n",
    "        print(f\"Precisione media fase training: {mean(train_score_precision)}\")\n",
    "        print(f\"Recall medio fase training: {mean(train_score_recall)}\")\n",
    "\n",
    "        print(f\"Accuratezza media fase test: {mean(test_score_accuracy)}\")\n",
    "        print(f\"Precisione media fase test: {mean(test_score_precision)}\")\n",
    "        print(f\"Recall medio fase test: {mean(test_score_recall)}\")"
   ]
  },
  {
   "cell_type": "code",
   "execution_count": 244,
   "metadata": {},
   "outputs": [
    {
     "name": "stdout",
     "output_type": "stream",
     "text": [
      "\n",
      "\n",
      " interazione: 1  --  altezza: 2  --  \n",
      "\n",
      "\n",
      "Accuratezza media fase training: 0.6141305336354157\n",
      "Precisione media fase training: 0.6139178567344824\n",
      "Recall medio fase training: 0.9997012212648465\n",
      "Accuratezza media fase test: 0.6135289811234733\n",
      "Precisione media fase test: 0.6136107254142465\n",
      "Recall medio fase test: 0.9992044093505276\n",
      "\n",
      "\n",
      " interazione: 2  --  altezza: 3  --  \n",
      "\n",
      "\n",
      "Accuratezza media fase training: 0.6148043593129088\n",
      "Precisione media fase training: 0.6145327889902157\n",
      "Recall medio fase training: 0.9982853723404376\n",
      "Accuratezza media fase test: 0.6141632034859763\n",
      "Precisione media fase test: 0.6141792718436656\n",
      "Recall medio fase test: 0.9978622952126806\n",
      "\n",
      "\n",
      " interazione: 3  --  altezza: 4  --  \n",
      "\n",
      "\n",
      "Accuratezza media fase training: 0.6150331337576362\n",
      "Precisione media fase training: 0.6147403384326505\n",
      "Recall medio fase training: 0.9978134226989679\n",
      "Accuratezza media fase test: 0.614374610940144\n",
      "Precisione media fase test: 0.6143687873201387\n",
      "Recall medio fase test: 0.9974149238333981\n",
      "\n",
      "\n",
      " interazione: 4  --  altezza: 5  --  \n",
      "\n",
      "\n",
      "Accuratezza media fase training: 0.6152943659406859\n",
      "Precisione media fase training: 0.6150756558193262\n",
      "Recall medio fase training: 0.9966279671181593\n",
      "Accuratezza media fase test: 0.614193314526947\n",
      "Precisione media fase test: 0.614491232762727\n",
      "Recall medio fase test: 0.9959050431465608\n"
     ]
    }
   ],
   "source": [
    "Decision_Tree(df_validazione=df_validazione)"
   ]
  },
  {
   "cell_type": "markdown",
   "metadata": {},
   "source": [
    "* Mostro l'albero ottenuto sul 75% dei dati di training"
   ]
  },
  {
   "cell_type": "code",
   "execution_count": 245,
   "metadata": {},
   "outputs": [
    {
     "data": {
      "image/png": "[encoded data removed]",
      "text/plain": [
       "<Figure size 1200x1200 with 1 Axes>"
      ]
     },
     "metadata": {},
     "output_type": "display_data"
    }
   ],
   "source": [
    "X = df_validazione.drop(\"TARGET\", axis=1).values\n",
    "y = df_validazione[\"TARGET\"].values\n",
    "\n",
    "X_train, X_test, y_train, y_test = train_test_split(X, y, test_size=.25, random_state=0)\n",
    "\n",
    "tree = DecisionTreeClassifier(criterion='entropy', random_state=0, max_depth=5, min_samples_split=0.05)\n",
    "tree.fit(X_train, y_train)\n",
    "\n",
    "plt.figure(figsize=(12,12))\n",
    "plot_tree(tree, feature_names=df_validazione.columns)\n",
    "plt.show()"
   ]
  },
  {
   "cell_type": "markdown",
   "metadata": {},
   "source": [
    "### Naive Bayes"
   ]
  },
  {
   "cell_type": "code",
   "execution_count": 246,
   "metadata": {},
   "outputs": [],
   "source": [
    "def Naive_Bayes(type, n_split=10, random_seed=0, df_validazione=pd.DataFrame()):\n",
    "\n",
    "    \n",
    "    RANDOM_SEED = random_seed\n",
    "\n",
    "    X = df_validazione.drop(\"TARGET\", axis=1).values\n",
    "    y= df_validazione[\"TARGET\"].values\n",
    "\n",
    "    kf = KFold(n_splits=n_split, shuffle=True, random_state=RANDOM_SEED)\n",
    "\n",
    "    train_score_accuracy_score = []\n",
    "    train_score_recall_score = []\n",
    "    train_score_precision_score = []\n",
    "\n",
    "    test_score_accuracy_score = []\n",
    "    test_score_recall_score = []\n",
    "    test_score_precision_score = []\n",
    "\n",
    "\n",
    "    for train_index, test_index in kf.split(X):\n",
    "    \n",
    "        X_train, X_test = X[train_index], X[test_index]\n",
    "        y_train, y_test = y[train_index], y[test_index]\n",
    "\n",
    "        ss = MinMaxScaler()\n",
    "        X_train = ss.fit_transform(X_train)\n",
    "        X_test = ss.transform(X_test)\n",
    "\n",
    "        if type == \"GAUSSIAN\":\n",
    "            nb = GaussianNB()\n",
    "        \n",
    "        elif type == \"MULTINOMINAL\":\n",
    "            nb = MultinomialNB()\n",
    "\n",
    "        elif type == \"BERNOULLI\":\n",
    "            nb = BernoulliNB()\n",
    "\n",
    "        else:\n",
    "            return\n",
    "        \n",
    "        nb.fit(X_train, y_train)\n",
    "\n",
    "        y_train_predict = nb.predict(X_train)\n",
    "        y_test_predict = nb.predict(X_test)\n",
    "\n",
    "        train_score_accuracy_score.append(classification_report(y_train, y_train_predict)[0])\n",
    "        train_score_precision_score.append(classification_report(y_train, y_train_predict)[1])\n",
    "        train_score_recall_score.append(classification_report(y_train, y_train_predict)[2])\n",
    "\n",
    "        test_score_accuracy_score.append(classification_report(y_test, y_test_predict)[0])\n",
    "        test_score_precision_score.append(classification_report(y_test, y_test_predict)[1])\n",
    "        test_score_recall_score.append(classification_report(y_test, y_test_predict)[2])\n",
    "\n",
    "\n",
    "    print(f\"Accuratezza media fase training: {mean(train_score_accuracy_score)}\")\n",
    "    print(f\"Precisione media fase training: {mean(train_score_precision_score)}\")\n",
    "    print(f\"Recall medio fase training: {mean(train_score_recall_score)}\")\n",
    "\n",
    "    print(f\"Accuratezza media fase test: {mean(test_score_accuracy_score)}\")\n",
    "    print(f\"Precisione media fase test: {mean(test_score_precision_score)}\")\n",
    "    print(f\"Recall medio fase test: {mean(test_score_recall_score)}\")\n",
    "\n"
   ]
  },
  {
   "cell_type": "markdown",
   "metadata": {},
   "source": [
    "* #### Gaussian Naive Bayes"
   ]
  },
  {
   "cell_type": "code",
   "execution_count": 247,
   "metadata": {},
   "outputs": [
    {
     "name": "stdout",
     "output_type": "stream",
     "text": [
      "Accuratezza media fase training: 0.6134702541766656\n",
      "Precisione media fase training: 0.6134702541766656\n",
      "Recall medio fase training: 1.0\n",
      "Accuratezza media fase test: 0.6134715139407322\n",
      "Precisione media fase test: 0.6134715139407322\n",
      "Recall medio fase test: 1.0\n"
     ]
    }
   ],
   "source": [
    "Naive_Bayes(type=\"GAUSSIAN\", n_split=20, df_validazione=df_validazione[[\"AMT_INCOME_TOTAL\", \"TARGET\"]])"
   ]
  },
  {
   "cell_type": "markdown",
   "metadata": {},
   "source": [
    "* #### Bernoulli Naive Bayes"
   ]
  },
  {
   "cell_type": "code",
   "execution_count": 248,
   "metadata": {},
   "outputs": [
    {
     "name": "stdout",
     "output_type": "stream",
     "text": [
      "Accuratezza media fase training: 0.6134702541766656\n",
      "Precisione media fase training: 0.6134702541766656\n",
      "Recall medio fase training: 1.0\n",
      "Accuratezza media fase test: 0.6134715139407322\n",
      "Precisione media fase test: 0.6134715139407322\n",
      "Recall medio fase test: 1.0\n"
     ]
    }
   ],
   "source": [
    "df_validazione_naive_bernoulli = df_validazione[[\"CODE_GENDER\", \"FLAG_OWN_CAR\", \"FLAG_OWN_REALTY\", \"FLAG_MOBIL\", \"FLAG_WORK_PHONE\", \"FLAG_PHONE\", \"FLAG_EMAIL\", \"TARGET\"]]\n",
    "Naive_Bayes(type=\"BERNOULLI\", n_split=20, df_validazione=df_validazione_naive_bernoulli)"
   ]
  },
  {
   "cell_type": "markdown",
   "metadata": {},
   "source": [
    "* #### Multinomial Naive Bayes\n"
   ]
  },
  {
   "cell_type": "code",
   "execution_count": 249,
   "metadata": {},
   "outputs": [
    {
     "name": "stdout",
     "output_type": "stream",
     "text": [
      "Accuratezza media fase training: 0.6140202550224161\n",
      "Precisione media fase training: 0.6139579130357661\n",
      "Recall medio fase training: 0.9989272507960454\n",
      "Accuratezza media fase test: 0.614015284276443\n",
      "Precisione media fase test: 0.613953985503651\n",
      "Recall medio fase test: 0.9989137438921933\n"
     ]
    }
   ],
   "source": [
    "df_validazione_naive_multinominal = df_validazione.drop([\"CODE_GENDER\", \"FLAG_OWN_CAR\", \"FLAG_OWN_REALTY\", \"AMT_INCOME_TOTAL\", \"DAYS_BIRTH\", \"DAYS_EMPLOYED\", \"FLAG_MOBIL\", \"FLAG_WORK_PHONE\", \"FLAG_PHONE\", \"FLAG_EMAIL\"], axis=1)\n",
    "Naive_Bayes(type=\"BERNOULLI\", n_split=20, df_validazione=df_validazione_naive_multinominal)"
   ]
  },
  {
   "cell_type": "markdown",
   "metadata": {},
   "source": [
    "* #### Multinomial Naive Bayes con le features che hanno mostrato maggiore correlazione con la variabile target"
   ]
  },
  {
   "cell_type": "markdown",
   "metadata": {},
   "source": [
    " * * Verifico se le features sono indpipendenti"
   ]
  },
  {
   "cell_type": "code",
   "execution_count": 250,
   "metadata": {},
   "outputs": [
    {
     "data": {
      "text/plain": [
       "0.040793864256316086"
      ]
     },
     "execution_count": 250,
     "metadata": {},
     "output_type": "execute_result"
    }
   ],
   "source": [
    "application_record_2 = pd.read_csv(\"application_record.csv\")\n",
    "cramers_v(application_record_2[\"NAME_HOUSING_TYPE\"], application_record_2[\"NAME_EDUCATION_TYPE\"])"
   ]
  },
  {
   "cell_type": "code",
   "execution_count": 251,
   "metadata": {},
   "outputs": [
    {
     "name": "stdout",
     "output_type": "stream",
     "text": [
      "Accuratezza media fase training: 0.6138326821431365\n",
      "Precisione media fase training: 0.6137889216743759\n",
      "Recall medio fase training: 0.9993107331819591\n",
      "Accuratezza media fase test: 0.6138338327813119\n",
      "Precisione media fase test: 0.6137849915551994\n",
      "Recall medio fase test: 0.9993035491541906\n"
     ]
    }
   ],
   "source": [
    "df_validazione_naive_multinominal = df_validazione[['NAME_EDUCATION_TYPE', 'NAME_HOUSING_TYPE_Co-op apartment', 'NAME_HOUSING_TYPE_House / apartment', 'NAME_HOUSING_TYPE_Municipal apartment', 'NAME_HOUSING_TYPE_Office apartment', 'NAME_HOUSING_TYPE_Rented apartment', 'NAME_HOUSING_TYPE_With parents', 'TARGET']]\n",
    "Naive_Bayes(type=\"BERNOULLI\", n_split=20, df_validazione=df_validazione_naive_multinominal)"
   ]
  },
  {
   "cell_type": "markdown",
   "metadata": {},
   "source": [
    "### Support Vector Machine\n"
   ]
  },
  {
   "cell_type": "code",
   "execution_count": 252,
   "metadata": {},
   "outputs": [],
   "source": [
    "def SupportVectorMachine(type, n_split=10, random_seed=0, df_validazione=pd.DataFrame()):\n",
    "\n",
    "    \n",
    "    RANDOM_SEED = random_seed\n",
    "\n",
    "    X = df_validazione.drop(\"TARGET\", axis=1).values\n",
    "    y= df_validazione[\"TARGET\"].values\n",
    "\n",
    "    kf = KFold(n_splits=n_split, shuffle=True, random_state=RANDOM_SEED)\n",
    "\n",
    "    train_score_accuracy_score = []\n",
    "    train_score_recall_score = []\n",
    "    train_score_precision_score = []\n",
    "\n",
    "    test_score_accuracy_score = []\n",
    "    test_score_recall_score = []\n",
    "    test_score_precision_score = []\n",
    "\n",
    "\n",
    "    for train_index, test_index in kf.split(X):\n",
    "    \n",
    "        X_train, X_test = X[train_index], X[test_index]\n",
    "        y_train, y_test = y[train_index], y[test_index]\n",
    "\n",
    "        ss = MinMaxScaler()\n",
    "        X_train = ss.fit_transform(X_train)\n",
    "        X_test = ss.transform(X_test)\n",
    "\n",
    "\n",
    "        if type == \"LINEAR\":\n",
    "            svc = SVC(kernel=\"linear\", probability=True)\n",
    "        \n",
    "        elif type == \"POLYNOMIAL\":\n",
    "            svc = SVC(kernel=\"poly\", probability=True)\n",
    "\n",
    "        elif type == \"GAUSSIAN\":\n",
    "            svc = SVC(kernel=\"rbf\", probability=True)\n",
    "        \n",
    "        elif type == \"SIGMOIDAL\":\n",
    "            svc = SVC(kernel=\"sigmoid\", probability=True)\n",
    "\n",
    "        else:\n",
    "            return\n",
    "        \n",
    "        svc.fit(X_train, y_train)\n",
    "\n",
    "        y_train_predict = svc.predict(X_train)\n",
    "        y_test_predict = svc.predict(X_test)\n",
    "\n",
    "        train_score_accuracy_score.append(classification_report(y_train, y_train_predict)[0])\n",
    "        train_score_precision_score.append(classification_report(y_train, y_train_predict)[1])\n",
    "        train_score_recall_score.append(classification_report(y_train, y_train_predict)[2])\n",
    "\n",
    "        test_score_accuracy_score.append(classification_report(y_test, y_test_predict)[0])\n",
    "        test_score_precision_score.append(classification_report(y_test, y_test_predict)[1])\n",
    "        test_score_recall_score.append(classification_report(y_test, y_test_predict)[2])\n",
    "\n",
    "\n",
    "    print(f\"Accuratezza media fase training: {mean(train_score_accuracy_score)}\")\n",
    "    print(f\"Precisione media fase training: {mean(train_score_precision_score)}\")\n",
    "    print(f\"Recall medio fase training: {mean(train_score_recall_score)}\")\n",
    "\n",
    "    print(f\"Accuratezza media fase test: {mean(test_score_accuracy_score)}\")\n",
    "    print(f\"Precisione media fase test: {mean(test_score_precision_score)}\")\n",
    "    print(f\"Recall medio fase test: {mean(test_score_recall_score)}\")\n",
    "\n"
   ]
  },
  {
   "cell_type": "markdown",
   "metadata": {},
   "source": [
    "* #### Linear Support Vector Machine"
   ]
  },
  {
   "cell_type": "code",
   "execution_count": 253,
   "metadata": {},
   "outputs": [],
   "source": [
    "# SupportVectorMachine(type=\"LINEAR\", n_split=10, df_validazione=df_validazione)\n"
   ]
  },
  {
   "cell_type": "markdown",
   "metadata": {},
   "source": [
    "* #### Polynomial Support Vector Machine"
   ]
  },
  {
   "cell_type": "code",
   "execution_count": 254,
   "metadata": {},
   "outputs": [],
   "source": [
    "# SupportVectorMachine(type=\"POLYNOMIAL\", n_split=10, df_validazione=df_validazione)\n"
   ]
  },
  {
   "cell_type": "markdown",
   "metadata": {},
   "source": [
    "* #### Sigmoidal Support Vector Machine"
   ]
  },
  {
   "cell_type": "code",
   "execution_count": 255,
   "metadata": {},
   "outputs": [],
   "source": [
    "# SupportVectorMachine(type=\"SIGMOIDAL\", n_split=10, df_validazione=df_validazione)\n"
   ]
  },
  {
   "cell_type": "markdown",
   "metadata": {},
   "source": [
    "* #### Gaussian Support Vector Machine"
   ]
  },
  {
   "cell_type": "code",
   "execution_count": 256,
   "metadata": {},
   "outputs": [],
   "source": [
    "# SupportVectorMachine(type=\"GAUSSIAN\", n_split=20, df_validazione=df_validazione)\n"
   ]
  },
  {
   "cell_type": "markdown",
   "metadata": {},
   "source": [
    "# Conclusioni"
   ]
  },
  {
   "cell_type": "markdown",
   "metadata": {},
   "source": [
    "l'obiettivo di questo progetto è quello di valutare l'affidabilità creditiza dei clienti di una banca.\n",
    "Sono stati testati diversi modelli e sono stati proposti due diversi metodi di classificazione del cliente in base alle features 'STATUS' e 'MONTH'.\n",
    "I risultati ottenuti sono simili per entrambi i metodi di classificazione, ovvero si raggiungono alti livelli di recall (> 97%) mentre precisione ed accuratezza non superano mai significativamente il livello percentuale della classe a proporzione più alta, questo suggerisce che tutti i modelli tendano ad assegnare sempre 1 a qualsiasi cliente, ovvero tutti i clienti sono ritenuti inaffidabili.\n",
    "Questo suggerisce che lefeatures raccolte non sono in grado di spiegare significativamente la variabile target, come infatti si era già riscontrato nella fase preliminare dove si è studiata la correlazione tra features e variabile TARGET.\n",
    "Variabili che suggeirei invece sono la presenza di altri insoluti con altre banche / compagnie assicurative / qualsiasi istituto finanziario in generale nella storia del cliente e il saldo del conto corrente a fine mese."
   ]
  },
  {
   "cell_type": "markdown",
   "metadata": {},
   "source": [
    "* per ultimo viene preso il modello che ha performato meglio e lo si testa sui dati di test, in particolare viene preso il Decision Tree perchè ha dimostrato di essere molto stabile a livello di risultati a tutte le altezze."
   ]
  },
  {
   "cell_type": "code",
   "execution_count": 257,
   "metadata": {},
   "outputs": [
    {
     "name": "stdout",
     "output_type": "stream",
     "text": [
      "\n",
      "\n",
      " interazione: 1  --  altezza: 2  --  \n",
      "\n",
      "\n",
      "Accuratezza media fase training: 0.6104868916110017\n",
      "Precisione media fase training: 0.6104868916110017\n",
      "Recall medio fase training: 1.0\n",
      "Accuratezza media fase test: 0.6104870810208931\n",
      "Precisione media fase test: 0.6104870810208931\n",
      "Recall medio fase test: 1.0\n",
      "\n",
      "\n",
      " interazione: 2  --  altezza: 3  --  \n",
      "\n",
      "\n",
      "Accuratezza media fase training: 0.6104868916110017\n",
      "Precisione media fase training: 0.6104868916110017\n",
      "Recall medio fase training: 1.0\n",
      "Accuratezza media fase test: 0.6104870810208931\n",
      "Precisione media fase test: 0.6104870810208931\n",
      "Recall medio fase test: 1.0\n",
      "\n",
      "\n",
      " interazione: 3  --  altezza: 4  --  \n",
      "\n",
      "\n",
      "Accuratezza media fase training: 0.6114200971412209\n",
      "Precisione media fase training: 0.6125437339638075\n",
      "Recall medio fase training: 0.9899640256050363\n",
      "Accuratezza media fase test: 0.6101443430331618\n",
      "Precisione media fase test: 0.6118800416429123\n",
      "Recall medio fase test: 0.9887439806719229\n",
      "\n",
      "\n",
      " interazione: 4  --  altezza: 5  --  \n",
      "\n",
      "\n",
      "Accuratezza media fase training: 0.612918326424646\n",
      "Precisione media fase training: 0.6149650030350281\n",
      "Recall medio fase training: 0.980095867300662\n",
      "Accuratezza media fase test: 0.6108336456771615\n",
      "Precisione media fase test: 0.6138161028449135\n",
      "Recall medio fase test: 0.9783158811325027\n"
     ]
    }
   ],
   "source": [
    "Decision_Tree(df_validazione=df_test)"
   ]
  },
  {
   "cell_type": "code",
   "execution_count": null,
   "metadata": {},
   "outputs": [],
   "source": []
  },
  {
   "cell_type": "code",
   "execution_count": null,
   "metadata": {},
   "outputs": [],
   "source": []
  },
  {
   "cell_type": "code",
   "execution_count": null,
   "metadata": {},
   "outputs": [],
   "source": []
  },
  {
   "cell_type": "code",
   "execution_count": null,
   "metadata": {},
   "outputs": [],
   "source": []
  },
  {
   "cell_type": "code",
   "execution_count": null,
   "metadata": {},
   "outputs": [],
   "source": []
  },
  {
   "cell_type": "code",
   "execution_count": null,
   "metadata": {},
   "outputs": [],
   "source": []
  }
 ],
 "metadata": {
  "kernelspec": {
   "display_name": "Python 3",
   "language": "python",
   "name": "python3"
  },
  "language_info": {
   "codemirror_mode": {
    "name": "ipython",
    "version": 3
   },
   "file_extension": ".py",
   "mimetype": "text/x-python",
   "name": "python",
   "nbconvert_exporter": "python",
   "pygments_lexer": "ipython3",
   "version": "3.11.9"
  }
 },
 "nbformat": 4,
 "nbformat_minor": 2
}
