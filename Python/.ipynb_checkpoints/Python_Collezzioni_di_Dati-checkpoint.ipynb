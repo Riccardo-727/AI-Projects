{
 "cells": [
  {
   "cell_type": "code",
   "execution_count": 28,
   "id": "f1b2eaa9",
   "metadata": {},
   "outputs": [],
   "source": [
    "###Esercitazione collezzione dati"
   ]
  },
  {
   "cell_type": "code",
   "execution_count": 29,
   "id": "eed1c6d2",
   "metadata": {},
   "outputs": [],
   "source": [
    "dataset = {\"\" : [(\"\",\"\",\"\")]}"
   ]
  },
  {
   "cell_type": "code",
   "execution_count": 33,
   "id": "b212ef34",
   "metadata": {},
   "outputs": [],
   "source": [
    "dataset = {\"giuseppe_gullo\" : [(\"matematica\", 9, 0), (\"italiano\", 7, 3), (\"inglese\", 7.5, 4), (\"storia\", 7.5, 34), (\"geografia\", 5, 7)],\n",
    "          \"antonio_barbera\" : [(\"matematica\", 8, 1), (\"italiano\", 6, 1), (\"inglese\", 9.5, 0), (\"storia\", 8, 2), (\"geografia\", 8, 1)],\n",
    "          \"nicola_spina\" : [(\"matematica\", 9, 0), (\"italiano\", 7.5, 2), (\"inglese\", 6, 2), (\"storia\", 8.5, 2), (\"geografia\", 7, 2)]\n",
    "          }    "
   ]
  },
  {
   "cell_type": "code",
   "execution_count": 37,
   "id": "1387befb",
   "metadata": {},
   "outputs": [],
   "source": [
    "dataset[\"alberto_einesteino\"] =  [(\"matematica\", 10, 0), (\"italiano\", 10, 0), (\"inglese\", 10, 0), (\"storia\", 10, 0), (\"geografia\", 10, 10)],"
   ]
  },
  {
   "cell_type": "code",
   "execution_count": 42,
   "id": "fa826610",
   "metadata": {},
   "outputs": [
    {
     "ename": "AttributeError",
     "evalue": "'tuple' object has no attribute 'append'",
     "output_type": "error",
     "traceback": [
      "\u001b[1;31m---------------------------------------------------------------------------\u001b[0m",
      "\u001b[1;31mAttributeError\u001b[0m                            Traceback (most recent call last)",
      "Cell \u001b[1;32mIn[42], line 4\u001b[0m\n\u001b[0;32m      2\u001b[0m dataset[\u001b[38;5;124m\"\u001b[39m\u001b[38;5;124mantonio_barbera\u001b[39m\u001b[38;5;124m\"\u001b[39m]\u001b[38;5;241m.\u001b[39mappend((\u001b[38;5;124m\"\u001b[39m\u001b[38;5;124mfisica\u001b[39m\u001b[38;5;124m\"\u001b[39m, \u001b[38;5;241m10\u001b[39m, \u001b[38;5;241m0\u001b[39m))\n\u001b[0;32m      3\u001b[0m dataset[\u001b[38;5;124m\"\u001b[39m\u001b[38;5;124mnicola_spina\u001b[39m\u001b[38;5;124m\"\u001b[39m]\u001b[38;5;241m.\u001b[39mappend((\u001b[38;5;124m\"\u001b[39m\u001b[38;5;124mfisica\u001b[39m\u001b[38;5;124m\"\u001b[39m, \u001b[38;5;241m10\u001b[39m, \u001b[38;5;241m0\u001b[39m))\n\u001b[1;32m----> 4\u001b[0m dataset[\u001b[38;5;124m\"\u001b[39m\u001b[38;5;124malberto_einesteino\u001b[39m\u001b[38;5;124m\"\u001b[39m]\u001b[38;5;241m.\u001b[39mappend((\u001b[38;5;124m\"\u001b[39m\u001b[38;5;124mfisica\u001b[39m\u001b[38;5;124m\"\u001b[39m, \u001b[38;5;241m10\u001b[39m, \u001b[38;5;241m0\u001b[39m))\n",
      "\u001b[1;31mAttributeError\u001b[0m: 'tuple' object has no attribute 'append'"
     ]
    }
   ],
   "source": [
    "dataset[\"giuseppe_gullo\"].append((\"fisica\", 10, 0))\n",
    "dataset[\"antonio_barbera\"].append((\"fisica\", 10, 0))\n",
    "dataset[\"nicola_spina\"].append((\"fisica\", 10, 0))\n",
    "dataset[\"alberto_einesteino\"].append((\"fisica\", 10, 0))"
   ]
  },
  {
   "cell_type": "code",
   "execution_count": 43,
   "id": "410ccd78",
   "metadata": {},
   "outputs": [],
   "source": [
    "dataset[\"giuseppe_gullo\"].append((\"fisica\", 10, 0))"
   ]
  },
  {
   "cell_type": "code",
   "execution_count": null,
   "id": "c90516b6",
   "metadata": {},
   "outputs": [],
   "source": []
  },
  {
   "cell_type": "code",
   "execution_count": null,
   "id": "6e419ab2",
   "metadata": {},
   "outputs": [],
   "source": []
  }
 ],
 "metadata": {
  "kernelspec": {
   "display_name": "Python 3 (ipykernel)",
   "language": "python",
   "name": "python3"
  },
  "language_info": {
   "codemirror_mode": {
    "name": "ipython",
    "version": 3
   },
   "file_extension": ".py",
   "mimetype": "text/x-python",
   "name": "python",
   "nbconvert_exporter": "python",
   "pygments_lexer": "ipython3",
   "version": "3.11.5"
  }
 },
 "nbformat": 4,
 "nbformat_minor": 5
}
