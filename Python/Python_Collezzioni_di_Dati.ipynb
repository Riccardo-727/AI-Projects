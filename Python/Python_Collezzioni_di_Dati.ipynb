{
 "cells": [
  {
   "cell_type": "code",
   "execution_count": null,
   "id": "785d0dd3",
   "metadata": {},
   "outputs": [],
   "source": [
    "###Esercitazione collezzione dati#"
   ]
  },
  {
   "cell_type": "code",
   "execution_count": null,
   "id": "60aa8742",
   "metadata": {},
   "outputs": [],
   "source": [
    "dataset = {\"giuseppe_gullo\" : [(\"matematica\", 9, 0), (\"italiano\", 7, 3), (\"inglese\", 7.5, 4), (\"storia\", 7.5, 34), (\"geografia\", 5, 7)],\n",
    "          \"antonio_barbera\" : [(\"matematica\", 8, 1), (\"italiano\", 6, 1), (\"inglese\", 9.5, 0), (\"storia\", 8, 2), (\"geografia\", 8, 1)],\n",
    "          \"nicola_spina\" : [(\"matematica\", 9, 0), (\"italiano\", 7.5, 2), (\"inglese\", 6, 2), (\"storia\", 8.5, 2), (\"geografia\", 7, 2)]\n",
    "          }    "
   ]
  },
  {
   "cell_type": "code",
   "execution_count": null,
   "id": "69fcaa16",
   "metadata": {},
   "outputs": [],
   "source": [
    "dataset[\"alberto_einesteino\"] =  [(\"matematica\", 10, 0), (\"italiano\", 10, 0), (\"inglese\", 10, 0), (\"storia\", 10, 0), (\"geografia\", 10, 10)]"
   ]
  },
  {
   "cell_type": "code",
   "execution_count": null,
   "id": "fcf3c2e9",
   "metadata": {},
   "outputs": [],
   "source": [
    "dataset[\"giuseppe_gullo\"].append((\"fisica\", 10, 0))\n",
    "dataset[\"antonio_barbera\"].append((\"fisica\", 10, 0))\n",
    "dataset[\"nicola_spina\"].append((\"fisica\", 10, 0))\n",
    "dataset[\"alberto_einesteino\"].append((\"fisica\", 10, 0))\n"
   ]
  },
  {
   "cell_type": "code",
   "execution_count": null,
   "id": "829a236f",
   "metadata": {},
   "outputs": [],
   "source": [
    "dataset"
   ]
  },
  {
   "cell_type": "code",
   "execution_count": null,
   "id": "adf8c5b6",
   "metadata": {},
   "outputs": [],
   "source": [
    "\n",
    "voto = dataset[\"giuseppe_gullo\"][0][1]\n",
    "print( f\"voto di matematica per giuseppello= {voto}\")"
   ]
  },
  {
   "cell_type": "code",
   "execution_count": null,
   "id": "bd6f8c75",
   "metadata": {},
   "outputs": [],
   "source": [
    "print(\"nicola spinello in italiano ha {first} con {second} ore di assenza\".format(first=dataset[\"nicola_spina\"][1][1], second=dataset[\"nicola_spina\"][1][2]))"
   ]
  },
  {
   "cell_type": "markdown",
   "id": "bdb87a65",
   "metadata": {},
   "source": [
    "# Esercizio Registro\n"
   ]
  },
  {
   "cell_type": "code",
   "execution_count": 20,
   "id": "c7a5e179",
   "metadata": {},
   "outputs": [
    {
     "name": "stdout",
     "output_type": "stream",
     "text": [
      "inserisci i dati: 3 Krishna 67 68 69 Arjun 70 98 63 Malika 52 56 60\n"
     ]
    }
   ],
   "source": [
    "data = input(\"inserisci i dati: \")"
   ]
  },
  {
   "cell_type": "code",
   "execution_count": 15,
   "id": "37f21213",
   "metadata": {},
   "outputs": [
    {
     "name": "stdout",
     "output_type": "stream",
     "text": [
      "digita il nome di uno studente: Malika\n"
     ]
    }
   ],
   "source": [
    "nome = input(\"digita il nome di uno studente: \")"
   ]
  },
  {
   "cell_type": "code",
   "execution_count": 21,
   "id": "021211c7",
   "metadata": {},
   "outputs": [],
   "source": [
    "data = data.split(\" \")\n",
    "dizionario = {\"\":\"\"}\n",
    "i=1\n",
    "while i < len(data):\n",
    "    dizionario[data[i]] = tuple(map(int, data[i+1 : i+4])) #(int(data[i+1]), int(data[i+2]), int(data[i+3]))\n",
    "    i += 4\n",
    "\n",
    "def media(nome):\n",
    "    i , j, k =  dizionario[nome]\n",
    "    return (i + j + k)/3\n",
    "        "
   ]
  },
  {
   "cell_type": "code",
   "execution_count": 22,
   "id": "19d855a2",
   "metadata": {},
   "outputs": [
    {
     "name": "stdout",
     "output_type": "stream",
     "text": [
      "Malika ha media 56.0\n"
     ]
    }
   ],
   "source": [
    "print(f\"{nome} ha media {media(nome)}\")"
   ]
  },
  {
   "cell_type": "code",
   "execution_count": 19,
   "id": "d59e4e40",
   "metadata": {},
   "outputs": [],
   "source": []
  },
  {
   "cell_type": "code",
   "execution_count": null,
   "id": "afca6372",
   "metadata": {},
   "outputs": [],
   "source": []
  }
 ],
 "metadata": {
  "kernelspec": {
   "display_name": "Python 3 (ipykernel)",
   "language": "python",
   "name": "python3"
  },
  "language_info": {
   "codemirror_mode": {
    "name": "ipython",
    "version": 3
   },
   "file_extension": ".py",
   "mimetype": "text/x-python",
   "name": "python",
   "nbconvert_exporter": "python",
   "pygments_lexer": "ipython3",
   "version": "3.11.5"
  }
 },
 "nbformat": 4,
 "nbformat_minor": 5
}
