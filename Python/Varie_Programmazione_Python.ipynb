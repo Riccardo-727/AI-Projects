{
 "cells": [
  {
   "cell_type": "markdown",
   "id": "301560f4",
   "metadata": {},
   "source": [
    "### Nota utilizzo d \"in\""
   ]
  },
  {
   "cell_type": "code",
   "execution_count": 2,
   "id": "10f4fdf2",
   "metadata": {},
   "outputs": [],
   "source": [
    "list1 = [1,2,3,4,5,6,7]"
   ]
  },
  {
   "cell_type": "code",
   "execution_count": 3,
   "id": "6f45bca3",
   "metadata": {},
   "outputs": [
    {
     "data": {
      "text/plain": [
       "True"
      ]
     },
     "execution_count": 3,
     "metadata": {},
     "output_type": "execute_result"
    }
   ],
   "source": [
    "2 in list1"
   ]
  },
  {
   "cell_type": "code",
   "execution_count": 4,
   "id": "75530cc5",
   "metadata": {},
   "outputs": [
    {
     "data": {
      "text/plain": [
       "True"
      ]
     },
     "execution_count": 4,
     "metadata": {},
     "output_type": "execute_result"
    }
   ],
   "source": [
    "2 and 3 in list1"
   ]
  },
  {
   "cell_type": "markdown",
   "id": "fccf6822",
   "metadata": {},
   "source": [
    "### Enumerate"
   ]
  },
  {
   "cell_type": "code",
   "execution_count": 5,
   "id": "b9c7ac8b",
   "metadata": {},
   "outputs": [
    {
     "data": {
      "text/plain": [
       "<enumerate at 0x23a03526cf0>"
      ]
     },
     "execution_count": 5,
     "metadata": {},
     "output_type": "execute_result"
    }
   ],
   "source": [
    "enumerate(list1)"
   ]
  },
  {
   "cell_type": "code",
   "execution_count": 6,
   "id": "9e4b2129",
   "metadata": {},
   "outputs": [
    {
     "data": {
      "text/plain": [
       "((0, 1), (1, 2), (2, 3), (3, 4), (4, 5), (5, 6), (6, 7))"
      ]
     },
     "execution_count": 6,
     "metadata": {},
     "output_type": "execute_result"
    }
   ],
   "source": [
    "tuple(enumerate(list1))"
   ]
  },
  {
   "cell_type": "code",
   "execution_count": 7,
   "id": "3f218534",
   "metadata": {},
   "outputs": [
    {
     "data": {
      "text/plain": [
       "[(0, 1), (1, 2), (2, 3), (3, 4), (4, 5), (5, 6), (6, 7)]"
      ]
     },
     "execution_count": 7,
     "metadata": {},
     "output_type": "execute_result"
    }
   ],
   "source": [
    "list(enumerate(list1))"
   ]
  },
  {
   "cell_type": "markdown",
   "id": "1e1721cf",
   "metadata": {},
   "source": [
    "### Nota come posso usare due differenti modi per recuperare i valori composti"
   ]
  },
  {
   "cell_type": "code",
   "execution_count": 8,
   "id": "5e3c07bd",
   "metadata": {},
   "outputs": [
    {
     "name": "stdout",
     "output_type": "stream",
     "text": [
      "0 1\n",
      "1 2\n",
      "2 3\n",
      "3 4\n",
      "4 5\n",
      "5 6\n",
      "6 7\n"
     ]
    }
   ],
   "source": [
    "for i, j in enumerate(list1):\n",
    "    print(i,j)"
   ]
  },
  {
   "cell_type": "code",
   "execution_count": 9,
   "id": "56380a2b",
   "metadata": {},
   "outputs": [
    {
     "name": "stdout",
     "output_type": "stream",
     "text": [
      "0 1\n",
      "1 2\n",
      "2 3\n",
      "3 4\n",
      "4 5\n",
      "5 6\n",
      "6 7\n"
     ]
    }
   ],
   "source": [
    "for i in enumerate(list1):\n",
    "    print(i[0], i[1])"
   ]
  },
  {
   "cell_type": "code",
   "execution_count": 10,
   "id": "c64c6989",
   "metadata": {},
   "outputs": [
    {
     "data": {
      "text/plain": [
       "['1', '2', '3', '4', '5', '6', '7', '8', '9', '10']"
      ]
     },
     "execution_count": 10,
     "metadata": {},
     "output_type": "execute_result"
    }
   ],
   "source": [
    "string1 = \"1,2,3,4,5,6,7,8,9,10\"\n",
    "#Per fare split in base alla virgola\n",
    "stringa_splittata = string1.split(\",\")\n",
    "stringa_splittata"
   ]
  },
  {
   "cell_type": "markdown",
   "id": "a09552e5",
   "metadata": {},
   "source": [
    "map() è un iteratore e converte tutti gli elementi di una collezione nel tipo specificato"
   ]
  },
  {
   "cell_type": "code",
   "execution_count": 11,
   "id": "f2518796",
   "metadata": {},
   "outputs": [
    {
     "data": {
      "text/plain": [
       "<map at 0x23a024dd1e0>"
      ]
     },
     "execution_count": 11,
     "metadata": {},
     "output_type": "execute_result"
    }
   ],
   "source": [
    "map(int, stringa_splittata)"
   ]
  },
  {
   "cell_type": "code",
   "execution_count": 12,
   "id": "d2694a78",
   "metadata": {},
   "outputs": [
    {
     "data": {
      "text/plain": [
       "[1, 2, 3, 4, 5, 6, 7, 8, 9, 10]"
      ]
     },
     "execution_count": 12,
     "metadata": {},
     "output_type": "execute_result"
    }
   ],
   "source": [
    "lista_mappata = list(map(int, stringa_splittata))\n",
    "lista_mappata"
   ]
  },
  {
   "cell_type": "markdown",
   "id": "22f2c9b3",
   "metadata": {},
   "source": [
    "### differenza tra list.sort() e sorted()\n",
    "il primo ordina la lista sul posto, il secondo no quindi torna una NUOVA lista"
   ]
  },
  {
   "cell_type": "code",
   "execution_count": 13,
   "id": "5b8f39e8",
   "metadata": {},
   "outputs": [
    {
     "data": {
      "text/plain": [
       "[2, 3, 4, 5, 5, 7, 9, 9, 21, 34, 45, 76, 88]"
      ]
     },
     "execution_count": 13,
     "metadata": {},
     "output_type": "execute_result"
    }
   ],
   "source": [
    "lista_ordinata1 = [4,2,7,5,9,88,21,3,5,76,45,9,34]\n",
    "lista_ordinata1.sort()\n",
    "lista_ordinata1"
   ]
  },
  {
   "cell_type": "code",
   "execution_count": 14,
   "id": "1e4c0376",
   "metadata": {},
   "outputs": [],
   "source": [
    "lista_ordinata2= sorted([4,2,7,5,9,88,21,3,5,76,45,9,34])"
   ]
  },
  {
   "cell_type": "code",
   "execution_count": 15,
   "id": "7ce6d187",
   "metadata": {},
   "outputs": [
    {
     "data": {
      "text/plain": [
       "[2, 3, 4, 5, 5, 7, 9, 9, 21, 34, 45, 76, 88]"
      ]
     },
     "execution_count": 15,
     "metadata": {},
     "output_type": "execute_result"
    }
   ],
   "source": [
    "lista_ordinata2"
   ]
  },
  {
   "cell_type": "markdown",
   "id": "8e76d0d8",
   "metadata": {},
   "source": [
    "### Rimozione duplicati\n",
    "due casi:"
   ]
  },
  {
   "cell_type": "code",
   "execution_count": 16,
   "id": "d80da9c5",
   "metadata": {},
   "outputs": [
    {
     "data": {
      "text/plain": [
       "{2, 3, 4, 6, 7}"
      ]
     },
     "execution_count": 16,
     "metadata": {},
     "output_type": "execute_result"
    }
   ],
   "source": [
    "# primo -> uso set -> PERDENDO PERò L'ORDINAMENTO ORIGINALE\n",
    "list_unordered = [4,3,2,4,6,6,6,7]\n",
    "set(list_unordered)"
   ]
  },
  {
   "cell_type": "code",
   "execution_count": 17,
   "id": "48fc574d",
   "metadata": {},
   "outputs": [
    {
     "data": {
      "text/plain": [
       "[4, 3, 2, 6, 7]"
      ]
     },
     "execution_count": 17,
     "metadata": {},
     "output_type": "execute_result"
    }
   ],
   "source": [
    "# secondo -> uso dict.fromkeys() -> MANTENGO L'ORDINE ORIGINALE\n",
    "list_unordered = [4,3,2,4,6,6,6,7]\n",
    "list(dict.fromkeys(list_unordered))\n"
   ]
  },
  {
   "cell_type": "markdown",
   "id": "f5bb27b9",
   "metadata": {},
   "source": [
    "### Funzioni con Keyword Argument"
   ]
  },
  {
   "cell_type": "code",
   "execution_count": 18,
   "id": "8f127cca",
   "metadata": {},
   "outputs": [],
   "source": [
    "#questa è una funzione con parametri posizionali\n",
    "def func_a(a,b,c,d):\n",
    "    print(f\"a={a}, b={b}, c={c}, d={d}\")"
   ]
  },
  {
   "cell_type": "code",
   "execution_count": 19,
   "id": "b80d6490",
   "metadata": {},
   "outputs": [
    {
     "ename": "SyntaxError",
     "evalue": "positional argument follows keyword argument (2793344788.py, line 8)",
     "output_type": "error",
     "traceback": [
      "\u001b[1;36m  Cell \u001b[1;32mIn[19], line 8\u001b[1;36m\u001b[0m\n\u001b[1;33m    func_b(d=0, c=0, 0, 0) #errore keyword argument a sinistra\u001b[0m\n\u001b[1;37m                         ^\u001b[0m\n\u001b[1;31mSyntaxError\u001b[0m\u001b[1;31m:\u001b[0m positional argument follows keyword argument\n"
     ]
    }
   ],
   "source": [
    "#questa è una funzione con keyword argument\n",
    "def func_b(a=1,b=2,c=3,d=4):\n",
    "    print(f\"a={a}, b={b}, c={c}, d={d}\")\n",
    "\n",
    "func_b(0,0) #per c e d si usano i parametri di default\n",
    "func_b(b=0, a=0, d=0, c=0) #la posizione dei keyword argument può essere qualsiasi\n",
    "func_b(0, 0, d=0, c=0) #a patto che non ci siano parametri messi posizionalmente, in questo caso i keyword argument devono essere i parametri più a destra\n",
    "func_b(d=0, c=0, 0, 0) #errore keyword argument a sinistra\n"
   ]
  },
  {
   "cell_type": "code",
   "execution_count": null,
   "id": "83a0becd",
   "metadata": {},
   "outputs": [],
   "source": [
    "def func_b(a, b, c=3, d=4):\n",
    "    print(f\"a={a}, b={b}, c={c}, d={d}\")\n",
    "\n",
    "func_b(0,0) #ok i parametri dati corrispondono ad a e b\n",
    "func_b(d=0, c=0, 0, 0) #errore keyword argument a sinistra\n"
   ]
  },
  {
   "cell_type": "markdown",
   "id": "b31d8a49",
   "metadata": {},
   "source": [
    "### Funzione Replace"
   ]
  },
  {
   "cell_type": "code",
   "execution_count": null,
   "id": "45c5cf25",
   "metadata": {},
   "outputs": [],
   "source": [
    "stringa = \"anfjsfnafngaflnvjkdafbndfjabndfnbdfbkj\"\n",
    "stringa.replace(\"a\",\" \").replace(\"f\", \" \") # NON OPERA IN LOCO\n",
    "stringa"
   ]
  },
  {
   "cell_type": "markdown",
   "id": "39a9c5a7",
   "metadata": {},
   "source": [
    "### Funzione isalnum()\n"
   ]
  },
  {
   "cell_type": "code",
   "execution_count": null,
   "id": "19c1a707",
   "metadata": {},
   "outputs": [],
   "source": [
    "#restiruisce true se la stringa al quale è applicata è alfanumerica\n",
    "stringa_alfanum = \"sjkvnsfvn8993ghnuffv--.fvvdf..\\$}\"\n",
    "print(stringa_alfanum.isalnum())\n",
    "stringa_alfanum = \"sjkvnsfvn8993g\"\n",
    "print(stringa_alfanum.isalnum())"
   ]
  },
  {
   "cell_type": "markdown",
   "id": "db39714f",
   "metadata": {},
   "source": [
    "### Funzione zip()"
   ]
  },
  {
   "cell_type": "markdown",
   "id": "cff63fa8",
   "metadata": {},
   "source": [
    "###### permette di creare tuple a partire da 2 o piu collezzioni, è un generatore #"
   ]
  },
  {
   "cell_type": "code",
   "execution_count": null,
   "id": "efdcc941",
   "metadata": {},
   "outputs": [],
   "source": [
    "list1 = [1,2,3,4]\n",
    "list2 = [1,2,3,4]\n",
    "tupla_zippata1 = zip(list1, list2)"
   ]
  },
  {
   "cell_type": "code",
   "execution_count": null,
   "id": "425a693d",
   "metadata": {},
   "outputs": [],
   "source": [
    "print(tuple(tupla_zippata1))"
   ]
  },
  {
   "cell_type": "code",
   "execution_count": null,
   "id": "3c698f73",
   "metadata": {},
   "outputs": [],
   "source": [
    "list3 = [1,2,3,4]"
   ]
  },
  {
   "cell_type": "code",
   "execution_count": null,
   "id": "96479da6",
   "metadata": {},
   "outputs": [],
   "source": [
    "tupla_zippata2 = zip(list1, list2, list3)"
   ]
  },
  {
   "cell_type": "code",
   "execution_count": null,
   "id": "58767634",
   "metadata": {},
   "outputs": [],
   "source": [
    "print(tuple(tupla_zippata2))"
   ]
  },
  {
   "cell_type": "markdown",
   "id": "a0b24b90",
   "metadata": {},
   "source": [
    "### Classi"
   ]
  },
  {
   "cell_type": "code",
   "execution_count": null,
   "id": "29656607",
   "metadata": {},
   "outputs": [],
   "source": [
    "class Persona:\n",
    "    \n",
    "    def __init__(self, nome, cognome):\n",
    "        self.nome = nome\n",
    "        self.cognome = cognome\n",
    "    \n",
    "    def get_full_name(self):\n",
    "        return self.nome + \" \" + self.cognome\n",
    "        \n",
    "    def print_persona(self):\n",
    "        print(f\"sono {nome} {cognome}\")\n",
    " \n",
    "class Dottore(Persona):\n",
    "    \n",
    "    def __init__(self, parla): #NOTA:devo prima inizializzare la classe padre chiamando il costruttore se voglio usare i suoi metodi\n",
    "        super(Dottore, self).__init__(\"riccardo\", \"allegri\")\n",
    "        self.parla = parla\n",
    "        \n",
    "    def print_persona(self):\n",
    "        print(f\"sono {super(Dottore, self).get_full_name()}  e sono un dottore\")\n",
    "    \n",
    "        "
   ]
  },
  {
   "cell_type": "code",
   "execution_count": null,
   "id": "c6783b7d",
   "metadata": {},
   "outputs": [],
   "source": [
    "p1 = Persona(\"ric\", \"allegri\")\n",
    "d1 = Dottore(\"ciao a tutti sono un dottore\")\n",
    "d1.print_persona()\n"
   ]
  },
  {
   "cell_type": "markdown",
   "id": "71d58e5e",
   "metadata": {},
   "source": [
    "### Attributi di classe e di istanza"
   ]
  },
  {
   "cell_type": "code",
   "execution_count": null,
   "id": "4ee0cb67",
   "metadata": {},
   "outputs": [],
   "source": [
    "class Persona2:\n",
    "   \n",
    "    nome = \"nome_statico_A\"          #questi due sono attributi di classe, proprietà dell'intera classe\n",
    "    cognome = \"cognome_statico_A\"    #equivalente dello STATIC  di JAVA, posso accedervi senza istanziare una classe\n",
    "                                     #e posso accedervi dalla classe figlia\n",
    "        \n",
    "    def __init__(self):\n",
    "        self.nome2 = \"persona 2\"   # tutti quelli con SELF sono attributi di istanza  \n",
    "                 \n",
    "    def print_persona():\n",
    "        print(f\"sono {nome} {cognome}\")\n",
    " \n",
    "class Dottore2(Persona2):\n",
    "    \n",
    "    def __init__(self):\n",
    "        super()\n",
    "        \n",
    "    def print_dottore2(self):\n",
    "        print(f\"se voglio accedere agli attributi di classe della superclasse dalla sottoclasse posso usare super: {super().nome} o la notazione punteta self.attributo: {self.cognome}, infatti con super accedo alla superclasse, con self accedo ac campo ereditato\")  \n",
    "        \n",
    "    def print_dottore_static_method(): #METODO STATICO\n",
    "        print(f\"sono un metodo statico di dottore2\")"
   ]
  },
  {
   "cell_type": "code",
   "execution_count": null,
   "id": "e025765a",
   "metadata": {},
   "outputs": [],
   "source": [
    "print(Persona2.nome)\n",
    "Dottore2.print_dottore_static_method() #metodo statico\n",
    "Dottore2().print_dottore2()\n"
   ]
  },
  {
   "cell_type": "code",
   "execution_count": null,
   "id": "e5849a8a",
   "metadata": {},
   "outputs": [],
   "source": [
    "class Dottore2(Persona2):\n",
    "    \n",
    "    nome = \"nome_statico_B\"        \n",
    "    cognome = \"cognome_statico_B\" \n",
    "    \n",
    "    def __init__(self): \n",
    "        super().__init__()\n",
    "        \n",
    "    def print_dottore2(self):\n",
    "        print(f\"adesso essendo che la classe figlia sovrascrive nome e cognome se voglio accedere ai valori della classe padre posso usare solo super() perchè con self mi riferisco ai valori della classe figlia che ho sovrascritto, infatti nome: {super().nome}, cognome:{self.cognome}\")  \n",
    "        "
   ]
  },
  {
   "cell_type": "markdown",
   "id": "ce82c95f",
   "metadata": {},
   "source": [
    "###### NOTA che in python posso accedere a un membro statico della classe anche da un metodo non statico a differenza di java e c++ #"
   ]
  },
  {
   "cell_type": "code",
   "execution_count": null,
   "id": "82ddbc15",
   "metadata": {},
   "outputs": [],
   "source": [
    "Dottore2().print_dottore2()"
   ]
  },
  {
   "cell_type": "code",
   "execution_count": null,
   "id": "906129c5",
   "metadata": {},
   "outputs": [],
   "source": [
    "class Persona3:\n",
    "        \n",
    "    def __init__(self):\n",
    "        self.nome3 = \"nome 3\" \n",
    "        self.cognome3 = \"cognome 3 classe Persona3\"   \n",
    "                \n",
    " \n",
    "class Dottore3(Persona3):\n",
    "    \n",
    "    def __init__(self):\n",
    "        super().__init__()\n",
    "        self.cognome3 = \"cognome 3 classe Dottore3 \"\n",
    "        \n",
    "    def print_dottore3(self):\n",
    "        print(f\"{self.nome3},  {super().cognome3}\")  \n",
    "        \n",
    "   "
   ]
  },
  {
   "cell_type": "markdown",
   "id": "a99b329c",
   "metadata": {},
   "source": [
    "###### NOTA che in python NON posso accedere agli attributi di istanza della classe padre tramite il super #"
   ]
  },
  {
   "cell_type": "code",
   "execution_count": null,
   "id": "62f02490",
   "metadata": {},
   "outputs": [],
   "source": [
    "Dottore3().print_dottore3()"
   ]
  },
  {
   "cell_type": "markdown",
   "id": "6cc98c1b",
   "metadata": {},
   "source": [
    "### Convenzione per stampare info di una classe: metodo __repr__()"
   ]
  },
  {
   "cell_type": "code",
   "execution_count": null,
   "id": "02eb4c2e",
   "metadata": {},
   "outputs": [],
   "source": [
    "class A:\n",
    "    \n",
    "    def __init__(self, a):\n",
    "        self.a = a\n",
    "        print(\"costruttore di A\")\n"
   ]
  },
  {
   "cell_type": "code",
   "execution_count": null,
   "id": "18798f54",
   "metadata": {},
   "outputs": [],
   "source": [
    "print(A(2))"
   ]
  },
  {
   "cell_type": "code",
   "execution_count": null,
   "id": "57898b11",
   "metadata": {},
   "outputs": [],
   "source": [
    "class A:\n",
    "    \n",
    "    def __init__(self, a):\n",
    "        self.a = a\n",
    "        \n",
    "    def __repr__(self):        #NOTA: tutti i metodi che iniziano e finiscono con trattini, per CONVENZIONE, sono metodi speciali di python\n",
    "        return \"sono repr \" + str(self.a)\n"
   ]
  },
  {
   "cell_type": "code",
   "execution_count": null,
   "id": "56bb5b40",
   "metadata": {},
   "outputs": [],
   "source": [
    "print(A(2))"
   ]
  },
  {
   "cell_type": "markdown",
   "id": "f89ba386",
   "metadata": {},
   "source": [
    "### Overridde metodo"
   ]
  },
  {
   "cell_type": "code",
   "execution_count": null,
   "id": "87ed3abf",
   "metadata": {},
   "outputs": [],
   "source": [
    "class AA:\n",
    "    \n",
    "    def __init__(self, a):\n",
    "        self.a = a\n",
    "    \n",
    "    def uguale(self):\n",
    "        print(\"sono uguale di AA\")"
   ]
  },
  {
   "cell_type": "code",
   "execution_count": null,
   "id": "b46b5601",
   "metadata": {},
   "outputs": [],
   "source": [
    "class B(AA):\n",
    "    \n",
    "    def __init__(self):\n",
    "        super().__init__(2)\n",
    "        self.a = 3\n",
    "        \n",
    "    def uguale(self):\n",
    "        print(\"sono uguale di B e chiamo: \")\n",
    "        super().uguale()"
   ]
  },
  {
   "cell_type": "code",
   "execution_count": null,
   "id": "aac53d6d",
   "metadata": {},
   "outputs": [],
   "source": [
    "B().uguale()"
   ]
  },
  {
   "cell_type": "markdown",
   "id": "a011771e",
   "metadata": {},
   "source": [
    "### Overridde attributo"
   ]
  },
  {
   "cell_type": "code",
   "execution_count": null,
   "id": "92217a1d",
   "metadata": {},
   "outputs": [],
   "source": [
    "class A2:\n",
    "    \n",
    "    a2 = \"a2 di A2\"\n",
    "    \n",
    "    def __init__(self):\n",
    "        self.aa2 = 2\n",
    "        \n",
    "    def get_attribute(self):\n",
    "        return self.a\n",
    "    \n",
    "   \n",
    "class B2(A2):\n",
    "    \n",
    "    a2 = \"a2 di B2\"\n",
    "    \n",
    "    def __init__(self):\n",
    "        super().__init__()\n",
    "        self.aa2 = 3\n",
    "        \n",
    "    def print_B2(self):\n",
    "        print(f\"Sono attributo di classe di A e valgo {super().a2}\")\n",
    "        print(f\"Sono attributo di classe di B e valgo {self.a2}\")\n",
    "        \n",
    "    def print_B2_static():\n",
    "        print(f\"Sono attributo di classe di B e valgo {a2}\")\n",
    "   "
   ]
  },
  {
   "cell_type": "code",
   "execution_count": null,
   "id": "3f88116e",
   "metadata": {},
   "outputs": [],
   "source": [
    "#B2().print_B2()\n",
    "B2().print_B2()"
   ]
  },
  {
   "cell_type": "code",
   "execution_count": null,
   "id": "02cf7aa7",
   "metadata": {},
   "outputs": [],
   "source": [
    "help(B2)"
   ]
  },
  {
   "cell_type": "markdown",
   "id": "cd97a6cd",
   "metadata": {},
   "source": [
    "### Overloading degli Operatori\n"
   ]
  },
  {
   "cell_type": "markdown",
   "id": "b96a8fd6",
   "metadata": {},
   "source": [
    "###### In python per fare l'overloading degli operatori esistono particolari metodi (messi già a disposizione da python), per esempio per l'operatore \"+\" esiste lil metodo:  \\_\\_add\\_\\_ (),  \\_\\_len\\_\\_() ecc.."
   ]
  },
  {
   "cell_type": "code",
   "execution_count": null,
   "id": "2d7f2327",
   "metadata": {},
   "outputs": [],
   "source": [
    "class A4:\n",
    "    \n",
    "    def __init__(self, i1):\n",
    "        self.i1 = i1\n",
    "    \n",
    "    def __repr__ ():\n",
    "        return self.i1"
   ]
  },
  {
   "cell_type": "markdown",
   "id": "49c14a7f",
   "metadata": {},
   "source": [
    "###### Se non faccio l'overload del \"+\" e lo applico a una classe ottengo un'eccezzione"
   ]
  },
  {
   "cell_type": "code",
   "execution_count": null,
   "id": "2d32b0e0",
   "metadata": {},
   "outputs": [],
   "source": [
    "a1 = A4(1)\n",
    "a2 = A4(1)\n",
    "print(a1+a2)"
   ]
  },
  {
   "cell_type": "code",
   "execution_count": null,
   "id": "cd0a96a6",
   "metadata": {},
   "outputs": [],
   "source": [
    "class A4:\n",
    "    \n",
    "    def __init__(self, i1):\n",
    "        self.i1 = i1\n",
    "        \n",
    "    def __add__(self, a2):\n",
    "        return self.i1 + a2.i1\n",
    "   "
   ]
  },
  {
   "cell_type": "markdown",
   "id": "4217ee7b",
   "metadata": {},
   "source": [
    "###### Qua il \"+\" funziona perchè ho inserito il metodo \\_\\_add\\_\\_()"
   ]
  },
  {
   "cell_type": "code",
   "execution_count": null,
   "id": "06b60349",
   "metadata": {},
   "outputs": [],
   "source": [
    "a1 = A4(1)\n",
    "a2 = A4(1)\n",
    "print(a1+a2)"
   ]
  },
  {
   "cell_type": "markdown",
   "id": "4f380560",
   "metadata": {},
   "source": [
    "### Eccezzioni"
   ]
  },
  {
   "cell_type": "code",
   "execution_count": null,
   "id": "bbe55a79",
   "metadata": {},
   "outputs": [],
   "source": [
    "import random \n",
    "\n",
    "random_number = random.randint(0,1) #genera un numero casuale nell intervallo 0-1\n",
    "a = 0\n",
    "\n",
    "try:\n",
    "    if(random_number):\n",
    "        a = 2/0\n",
    "    else:\n",
    "        a = 2 ** \"c\"\n",
    "    \n",
    "except ZeroDivisionError as e:\n",
    "    print(e)\n",
    "except TypeError as e:\n",
    "    print(e)\n",
    "except Exception as e: # è buona norma mettere sempre l eccezzione più generica alla fine\n",
    "    print(e)\n",
    "finally:\n",
    "    del a    # \"del\" viene usato per eliminare variabili"
   ]
  },
  {
   "cell_type": "markdown",
   "id": "c03851f9",
   "metadata": {},
   "source": [
    "### raise e assert"
   ]
  },
  {
   "cell_type": "code",
   "execution_count": null,
   "id": "4c158e15",
   "metadata": {},
   "outputs": [],
   "source": [
    "import random \n",
    "\n",
    "random_number = random.randint(0,1) #genera un numero casuale nell intervallo 0-1\n",
    "\n",
    "if(random_number):\n",
    "    raise TypeError(\"eccezzione sollevata da raise\")\n",
    "else:\n",
    "    assert(False), \"eccezzione sollevata da assert\""
   ]
  },
  {
   "cell_type": "markdown",
   "id": "60319a2b",
   "metadata": {},
   "source": [
    "### FIle"
   ]
  },
  {
   "cell_type": "code",
   "execution_count": null,
   "id": "f836b935",
   "metadata": {},
   "outputs": [],
   "source": [
    "file_txt = open(\"proverbi.txt\", encoding=\"utf-8\")  #encoding=\"utf-8\" per leggere correttamente caratteri accentati e caratteri speciali"
   ]
  },
  {
   "cell_type": "code",
   "execution_count": null,
   "id": "dddd7eb8",
   "metadata": {},
   "outputs": [],
   "source": [
    "#leggo l'intero file, ottengo l'intero contenuto come stringa\n",
    "proverbi = file_txt.read()   # -> il cursore arrivare alla fine -> file_txt.seek(indice): per riportarlo a una posizione desiderata"
   ]
  },
  {
   "cell_type": "code",
   "execution_count": null,
   "id": "986408ac",
   "metadata": {},
   "outputs": [],
   "source": [
    "proverbi"
   ]
  },
  {
   "cell_type": "code",
   "execution_count": null,
   "id": "0a3ce94f",
   "metadata": {},
   "outputs": [],
   "source": [
    "file_txt.seek(0)\n",
    "# ottengo una lista di frasi\n",
    "proverbi = file_txt.readlines() "
   ]
  },
  {
   "cell_type": "code",
   "execution_count": null,
   "id": "92992bf4",
   "metadata": {},
   "outputs": [],
   "source": [
    "proverbi"
   ]
  },
  {
   "cell_type": "code",
   "execution_count": null,
   "id": "35d91067",
   "metadata": {},
   "outputs": [],
   "source": [
    "file_txt.close()"
   ]
  },
  {
   "cell_type": "code",
   "execution_count": null,
   "id": "7d800f97",
   "metadata": {},
   "outputs": [],
   "source": [
    "#per evitare di chiudere manualemnte il file\n",
    "with open(\"proverbi.txt\", encoding=\"utf-8\") as file_txt:\n",
    "    proverbi = file_txt.read()\n",
    "\n",
    "proverbi # variabile dura anche fuori dallo scope di with\n",
    "    \n",
    "    "
   ]
  },
  {
   "cell_type": "markdown",
   "id": "bae11682",
   "metadata": {},
   "source": [
    "<ol>\n",
    "<p> r: apre il file in sola lettura (modalità di default) </p>\n",
    "<p>r+: apre i file in lettura e scrittura, il puntatore viene posizionato all'inzio del file.</p>\n",
    "<p>w: apre il file in sola scrittura, se il file esiste lo sovrascrive, se non esiste lo crea.</p>\n",
    "<p>w+: apre il file in lettura e scrittura, se il file esiste lo sovrascrive, se non esiste lo crea.</p>\n",
    "<p>a: apre il file in scrittura senza sovrascrivere il contenuto corrente.</p>\n",
    "<p>a+: apre il file in lettura e scrittura senza sovrascrivere il contenuto corrente. Se il file non esiste lo crea.</p>\n",
    "<p>rb: aprire il file in sola lettura e trattare il contenuto come bytes</p>\n",
    "</ol>"
   ]
  },
  {
   "cell_type": "markdown",
   "id": "3cb363fb",
   "metadata": {},
   "source": [
    "###### Formato CSV"
   ]
  },
  {
   "cell_type": "code",
   "execution_count": 20,
   "id": "6746d8fc",
   "metadata": {},
   "outputs": [
    {
     "name": "stdout",
     "output_type": "stream",
     "text": [
      "['', 'taglia', 'colore', 'prezzo']\n",
      "['0', 'S', 'bianco', '4.99']\n",
      "['1', 'M', 'bianco', '19.99']\n",
      "['2', 'XL', 'bianco', '12.49']\n",
      "['3', 'XL', 'bianco', '14.99']\n",
      "['4', 'S', 'bianco', '14.99']\n",
      "['5', 'S', 'verde', '7.99']\n",
      "['6', 'M', 'verde', '4.99']\n",
      "['7', 'L', 'verde', '12.49']\n",
      "['8', 'XL', 'bianco', '12.49']\n"
     ]
    }
   ],
   "source": [
    "import csv #standard library\n",
    "\n",
    "with open(\"shirts.csv\") as file_txt:\n",
    "    \n",
    "    file_csv = csv.reader(file_txt)    #se volessi leggere un file tabulato con un carattere qualsiasi, diverso dalla virgola faccio:\n",
    "                                       # file_csv = csv.reader(file_txt, delimiter=\"qualsiasi stringa o simbolo\")\n",
    "    for i, row in enumerate(file_csv):\n",
    "        if i == 10:\n",
    "            break\n",
    "        print(row)\n",
    "    \n"
   ]
  },
  {
   "cell_type": "code",
   "execution_count": 21,
   "id": "0c6bc8fd",
   "metadata": {},
   "outputs": [
    {
     "name": "stdout",
     "output_type": "stream",
     "text": [
      "['', 'taglia', 'colore', 'prezzo']\n",
      "{'': '0', 'taglia': 'S', 'colore': 'bianco', 'prezzo': '4.99'}\n",
      "{'': '1', 'taglia': 'M', 'colore': 'bianco', 'prezzo': '19.99'}\n",
      "{'': '2', 'taglia': 'XL', 'colore': 'bianco', 'prezzo': '12.49'}\n",
      "{'': '3', 'taglia': 'XL', 'colore': 'bianco', 'prezzo': '14.99'}\n",
      "{'': '4', 'taglia': 'S', 'colore': 'bianco', 'prezzo': '14.99'}\n",
      "{'': '5', 'taglia': 'S', 'colore': 'verde', 'prezzo': '7.99'}\n",
      "{'': '6', 'taglia': 'M', 'colore': 'verde', 'prezzo': '4.99'}\n",
      "{'': '7', 'taglia': 'L', 'colore': 'verde', 'prezzo': '12.49'}\n",
      "{'': '8', 'taglia': 'XL', 'colore': 'bianco', 'prezzo': '12.49'}\n",
      "{'': '9', 'taglia': 'M', 'colore': 'verde', 'prezzo': '19.99'}\n"
     ]
    }
   ],
   "source": [
    "with open(\"shirts.csv\", encoding=\"utf-8\") as file_txt:\n",
    "    \n",
    "    file_csv = csv.DictReader(file_txt)\n",
    "    \n",
    "    print(file_csv.fieldnames)\n",
    "    \n",
    "    for i, row in enumerate(file_csv):\n",
    "        if i == 10:\n",
    "            break\n",
    "        print(row)"
   ]
  },
  {
   "cell_type": "code",
   "execution_count": 36,
   "id": "876c4568",
   "metadata": {},
   "outputs": [],
   "source": [
    "with open(\"shirts.csv\", \"a+\", encoding=\"utf-8\", newline='') as file_txt:\n",
    "    \n",
    "    obj_writer = csv.writer(file_txt)\n",
    "    obj_writer.writerow([0,0,0,0])\n",
    "  "
   ]
  },
  {
   "cell_type": "markdown",
   "id": "8653beb2",
   "metadata": {},
   "source": [
    "###### Formato JSON"
   ]
  },
  {
   "cell_type": "code",
   "execution_count": 37,
   "id": "8bd8d55c",
   "metadata": {},
   "outputs": [],
   "source": [
    "inventory = {\n",
    "    \"abbigliamento\":{\n",
    "        \"magliette\":[\n",
    "            {\"taglia\":\"XL\", \"colore\":\"rosso\", \"prezzo\":14.99},\n",
    "            {\"taglia\":\"L\", \"colore\":\"blu\", \"prezzo\":16.99},\n",
    "            {\"taglia\":\"L\", \"colore\":\"bianco\", \"prezzo\":12.99}\n",
    "        ],\n",
    "        \"pantaloni\":[\n",
    "            {\"taglia\":46, \"colore\":\"nero\", \"prezzo\":24.99},\n",
    "            {\"taglia\":48, \"colore\":\"nero\", \"prezzo\":24.99},\n",
    "            {\"taglia\":50, \"colore\":\"bianco\", \"prezzo\":22.99}\n",
    "        ]\n",
    "    },\n",
    "    \"accessori\":{\n",
    "        \"borsa\":\n",
    "        [\n",
    "          {\"marca\":\"Alvaro Vitali\", \"prezzo\":79.99},\n",
    "          {\"marca\":\"Ingino Massini\", \"prezzo\":49.99},\n",
    "        ],\n",
    "        \"cinture\":[\n",
    "            {\"colore\":\"nero\", \"prezzo\":8.99},\n",
    "            {\"colore\":\"marrone\", \"prezzo\":8.99}\n",
    "        ]\n",
    "    }\n",
    "}\n",
    "         "
   ]
  },
  {
   "cell_type": "markdown",
   "id": "ff30fc1f",
   "metadata": {},
   "source": [
    "###### JSON to STRING: json.dumps(oggetto_JSON)"
   ]
  },
  {
   "cell_type": "code",
   "execution_count": 38,
   "id": "b27590b2",
   "metadata": {},
   "outputs": [
    {
     "data": {
      "text/plain": [
       "'{\"abbigliamento\": {\"magliette\": [{\"taglia\": \"XL\", \"colore\": \"rosso\", \"prezzo\": 14.99}, {\"taglia\": \"L\", \"colore\": \"blu\", \"prezzo\": 16.99}, {\"taglia\": \"L\", \"colore\": \"bianco\", \"prezzo\": 12.99}], \"pantaloni\": [{\"taglia\": 46, \"colore\": \"nero\", \"prezzo\": 24.99}, {\"taglia\": 48, \"colore\": \"nero\", \"prezzo\": 24.99}, {\"taglia\": 50, \"colore\": \"bianco\", \"prezzo\": 22.99}]}, \"accessori\": {\"borsa\": [{\"marca\": \"Alvaro Vitali\", \"prezzo\": 79.99}, {\"marca\": \"Ingino Massini\", \"prezzo\": 49.99}], \"cinture\": [{\"colore\": \"nero\", \"prezzo\": 8.99}, {\"colore\": \"marrone\", \"prezzo\": 8.99}]}}'"
      ]
     },
     "execution_count": 38,
     "metadata": {},
     "output_type": "execute_result"
    }
   ],
   "source": [
    "import json\n",
    "\n",
    "string_inventory = json.dumps(inventory)\n",
    "string_inventory"
   ]
  },
  {
   "cell_type": "markdown",
   "id": "1079e603",
   "metadata": {},
   "source": [
    "###### STRING to JSON: json.loads(stringa)"
   ]
  },
  {
   "cell_type": "code",
   "execution_count": 42,
   "id": "4a7ba1aa",
   "metadata": {},
   "outputs": [
    {
     "data": {
      "text/plain": [
       "{'abbigliamento': {'magliette': [{'taglia': 'XL',\n",
       "    'colore': 'rosso',\n",
       "    'prezzo': 14.99},\n",
       "   {'taglia': 'L', 'colore': 'blu', 'prezzo': 16.99},\n",
       "   {'taglia': 'L', 'colore': 'bianco', 'prezzo': 12.99}],\n",
       "  'pantaloni': [{'taglia': 46, 'colore': 'nero', 'prezzo': 24.99},\n",
       "   {'taglia': 48, 'colore': 'nero', 'prezzo': 24.99},\n",
       "   {'taglia': 50, 'colore': 'bianco', 'prezzo': 22.99}]},\n",
       " 'accessori': {'borsa': [{'marca': 'Alvaro Vitali', 'prezzo': 79.99},\n",
       "   {'marca': 'Ingino Massini', 'prezzo': 49.99}],\n",
       "  'cinture': [{'colore': 'nero', 'prezzo': 8.99},\n",
       "   {'colore': 'marrone', 'prezzo': 8.99}]}}"
      ]
     },
     "execution_count": 42,
     "metadata": {},
     "output_type": "execute_result"
    }
   ],
   "source": [
    "json_inventory = json.loads(string_inventory)\n",
    "json_inventory"
   ]
  },
  {
   "cell_type": "markdown",
   "id": "ca325694",
   "metadata": {},
   "source": [
    "###### Con i file invece uso le funzioni json.dump() e json.load()"
   ]
  },
  {
   "cell_type": "code",
   "execution_count": 57,
   "id": "0afff11f",
   "metadata": {},
   "outputs": [
    {
     "data": {
      "text/plain": [
       "dict"
      ]
     },
     "execution_count": 57,
     "metadata": {},
     "output_type": "execute_result"
    }
   ],
   "source": [
    "with open(\"file_JSON\", \"w\") as file_JSON:\n",
    "    json.dump(json_inventory ,file_JSON, indent=5) #posso caricare sia stringhe che dizionari\n",
    "    \n",
    "with open(\"file_JSON\", \"r\") as file_JSON_2:\n",
    "    new_inventory_json = json.load(file_JSON_2)\n",
    "    \n",
    "type(new_inventory_json)"
   ]
  },
  {
   "cell_type": "code",
   "execution_count": 59,
   "id": "d2851f63",
   "metadata": {},
   "outputs": [
    {
     "data": {
      "text/plain": [
       "str"
      ]
     },
     "execution_count": 59,
     "metadata": {},
     "output_type": "execute_result"
    }
   ],
   "source": [
    "with open(\"file_JSON\", \"w\") as file_JSON:\n",
    "    json.dump(string_inventory ,file_JSON, indent=5) #posso caricare sia stringhe che dizionari\n",
    "    \n",
    "with open(\"file_JSON\", \"r\") as file_JSON_2:\n",
    "    new_inventory_json = json.load(file_JSON_2)\n",
    "    \n",
    "type(new_inventory_json)"
   ]
  },
  {
   "cell_type": "markdown",
   "id": "7aca5923",
   "metadata": {},
   "source": [
    "### Moduli-Package-Librerie Python"
   ]
  },
  {
   "cell_type": "markdown",
   "id": "20556602",
   "metadata": {},
   "source": [
    "Modulo (contenuto in ->) Package (contenuto in ->) Librerie"
   ]
  },
  {
   "cell_type": "markdown",
   "id": "58f54aca",
   "metadata": {},
   "source": [
    "###### Nota: se modifichi un modulo in jupyter, essendo che lo salva in memoria per ricaricarlo correttamente devi prima far ripartire il kernel "
   ]
  },
  {
   "cell_type": "markdown",
   "id": "739ff64c",
   "metadata": {},
   "source": [
    "###### Nota: se vuoi accedere a un modulo all interno dello stesso package del modulo con cui stai lavorando allora usa il \".\" -> form . import funzione"
   ]
  },
  {
   "cell_type": "markdown",
   "id": "63554f14",
   "metadata": {},
   "source": [
    "###### Nota: usare \"*\" per importare tutto: from module import *    -> evito di accedere alla funzioni con la notazione puntata"
   ]
  },
  {
   "cell_type": "markdown",
   "id": "21b4349b",
   "metadata": {},
   "source": [
    "###### Nota: usare la notazione puntata per accedere ai diversi sottolivelli di un package, stesso concetto di namespace di c#"
   ]
  },
  {
   "cell_type": "markdown",
   "id": "a7c9024b",
   "metadata": {},
   "source": [
    "### Argomenti da riga di comando"
   ]
  },
  {
   "cell_type": "markdown",
   "id": "c0a39fad",
   "metadata": {},
   "source": [
    "import sys e poi nel codice per accedere agli elementi della riga di comando fare sys.argv che ritorna la lista degli argomenti"
   ]
  },
  {
   "cell_type": "markdown",
   "id": "77416aa6",
   "metadata": {},
   "source": [
    "### Modulo OS"
   ]
  },
  {
   "cell_type": "code",
   "execution_count": 71,
   "id": "1bcc4501",
   "metadata": {},
   "outputs": [
    {
     "data": {
      "text/plain": [
       "'r.allegri'"
      ]
     },
     "execution_count": 71,
     "metadata": {},
     "output_type": "execute_result"
    }
   ],
   "source": [
    "import os\n",
    "os.getlogin()\n"
   ]
  },
  {
   "cell_type": "code",
   "execution_count": 72,
   "id": "85ab02fe",
   "metadata": {},
   "outputs": [
    {
     "data": {
      "text/plain": [
       "['.ipynb_checkpoints',\n",
       " 'file_JSON',\n",
       " 'proverbi.txt',\n",
       " 'Python_Collezzioni_di_Dati.ipynb',\n",
       " 'shirts.csv',\n",
       " 'Varie_Programmazione_Python.ipynb']"
      ]
     },
     "execution_count": 72,
     "metadata": {},
     "output_type": "execute_result"
    }
   ],
   "source": [
    "os.listdir()"
   ]
  },
  {
   "cell_type": "code",
   "execution_count": 74,
   "id": "f33d8e70",
   "metadata": {},
   "outputs": [
    {
     "data": {
      "text/plain": [
       "['.anaconda',\n",
       " '.conda',\n",
       " '.condarc',\n",
       " '.continuum',\n",
       " '.docker',\n",
       " '.dotnet',\n",
       " '.ipynb_checkpoints',\n",
       " '.ipython',\n",
       " '.jupyter',\n",
       " '.librarymanager',\n",
       " '.matplotlib',\n",
       " '.ms-ad',\n",
       " '.nuget',\n",
       " '.spyder-py3',\n",
       " '.templateengine',\n",
       " '.vscode',\n",
       " 'AAA-Profession AI Esercizi',\n",
       " 'AppData',\n",
       " 'Application Data',\n",
       " 'Contacts',\n",
       " 'Cookies',\n",
       " 'Desktop',\n",
       " 'Documents',\n",
       " 'Downloads',\n",
       " 'Favorites',\n",
       " 'Jedi',\n",
       " 'Links',\n",
       " 'Local Settings',\n",
       " 'Music',\n",
       " 'My Documents',\n",
       " 'NetHood',\n",
       " 'NTUSER.DAT',\n",
       " 'ntuser.dat.LOG1',\n",
       " 'ntuser.dat.LOG2',\n",
       " 'NTUSER.DAT{c3e6aa26-4e62-11ee-9282-60e9aaa8066a}.TM.blf',\n",
       " 'NTUSER.DAT{c3e6aa26-4e62-11ee-9282-60e9aaa8066a}.TMContainer00000000000000000001.regtrans-ms',\n",
       " 'NTUSER.DAT{c3e6aa26-4e62-11ee-9282-60e9aaa8066a}.TMContainer00000000000000000002.regtrans-ms',\n",
       " 'ntuser.ini',\n",
       " 'OneDrive',\n",
       " 'Pictures',\n",
       " 'PrintHood',\n",
       " 'Prova Jupiter',\n",
       " 'Recent',\n",
       " 'Saved Games',\n",
       " 'Searches',\n",
       " 'SendTo',\n",
       " 'source',\n",
       " 'Start Menu',\n",
       " 'Templates',\n",
       " 'Videos']"
      ]
     },
     "execution_count": 74,
     "metadata": {},
     "output_type": "execute_result"
    }
   ],
   "source": [
    "os.listdir(\"C:\\\\Users\\\\r.allegri\")"
   ]
  },
  {
   "cell_type": "code",
   "execution_count": 91,
   "id": "8fdd8010",
   "metadata": {},
   "outputs": [],
   "source": [
    "#os.mkdir(\"cartella con nome sbagliato\")\n",
    "#os.rename(\"cartella con nome sbagliato\", \"cartella con nome corretto\")\n",
    "##os.remove(\"cartella con nome corretto\")\n",
    "#os.listdir()"
   ]
  },
  {
   "cell_type": "markdown",
   "id": "3c5f5f89",
   "metadata": {},
   "source": [
    "### Modulo  datetime"
   ]
  },
  {
   "cell_type": "code",
   "execution_count": 92,
   "id": "ccdde7ad",
   "metadata": {},
   "outputs": [],
   "source": [
    "import datetime"
   ]
  },
  {
   "cell_type": "code",
   "execution_count": 94,
   "id": "7bea0ed6",
   "metadata": {},
   "outputs": [
    {
     "name": "stdout",
     "output_type": "stream",
     "text": [
      "2023-12-10 14:40:25.181261\n"
     ]
    }
   ],
   "source": [
    "print(datetime.datetime.now())"
   ]
  },
  {
   "cell_type": "code",
   "execution_count": 95,
   "id": "7a477890",
   "metadata": {},
   "outputs": [
    {
     "name": "stdout",
     "output_type": "stream",
     "text": [
      "Help on module datetime:\n",
      "\n",
      "NAME\n",
      "    datetime - Fast implementation of the datetime type.\n",
      "\n",
      "MODULE REFERENCE\n",
      "    https://docs.python.org/3.11/library/datetime.html\n",
      "    \n",
      "    The following documentation is automatically generated from the Python\n",
      "    source files.  It may be incomplete, incorrect or include features that\n",
      "    are considered implementation detail and may vary between Python\n",
      "    implementations.  When in doubt, consult the module reference at the\n",
      "    location listed above.\n",
      "\n",
      "CLASSES\n",
      "    builtins.object\n",
      "        date\n",
      "            datetime\n",
      "        time\n",
      "        timedelta\n",
      "        tzinfo\n",
      "            timezone\n",
      "    \n",
      "    class date(builtins.object)\n",
      "     |  date(year, month, day) --> date object\n",
      "     |  \n",
      "     |  Methods defined here:\n",
      "     |  \n",
      "     |  __add__(self, value, /)\n",
      "     |      Return self+value.\n",
      "     |  \n",
      "     |  __eq__(self, value, /)\n",
      "     |      Return self==value.\n",
      "     |  \n",
      "     |  __format__(...)\n",
      "     |      Formats self with strftime.\n",
      "     |  \n",
      "     |  __ge__(self, value, /)\n",
      "     |      Return self>=value.\n",
      "     |  \n",
      "     |  __getattribute__(self, name, /)\n",
      "     |      Return getattr(self, name).\n",
      "     |  \n",
      "     |  __gt__(self, value, /)\n",
      "     |      Return self>value.\n",
      "     |  \n",
      "     |  __hash__(self, /)\n",
      "     |      Return hash(self).\n",
      "     |  \n",
      "     |  __le__(self, value, /)\n",
      "     |      Return self<=value.\n",
      "     |  \n",
      "     |  __lt__(self, value, /)\n",
      "     |      Return self<value.\n",
      "     |  \n",
      "     |  __ne__(self, value, /)\n",
      "     |      Return self!=value.\n",
      "     |  \n",
      "     |  __radd__(self, value, /)\n",
      "     |      Return value+self.\n",
      "     |  \n",
      "     |  __reduce__(...)\n",
      "     |      __reduce__() -> (cls, state)\n",
      "     |  \n",
      "     |  __repr__(self, /)\n",
      "     |      Return repr(self).\n",
      "     |  \n",
      "     |  __rsub__(self, value, /)\n",
      "     |      Return value-self.\n",
      "     |  \n",
      "     |  __str__(self, /)\n",
      "     |      Return str(self).\n",
      "     |  \n",
      "     |  __sub__(self, value, /)\n",
      "     |      Return self-value.\n",
      "     |  \n",
      "     |  ctime(...)\n",
      "     |      Return ctime() style string.\n",
      "     |  \n",
      "     |  isocalendar(...)\n",
      "     |      Return a named tuple containing ISO year, week number, and weekday.\n",
      "     |  \n",
      "     |  isoformat(...)\n",
      "     |      Return string in ISO 8601 format, YYYY-MM-DD.\n",
      "     |  \n",
      "     |  isoweekday(...)\n",
      "     |      Return the day of the week represented by the date.\n",
      "     |      Monday == 1 ... Sunday == 7\n",
      "     |  \n",
      "     |  replace(...)\n",
      "     |      Return date with new specified fields.\n",
      "     |  \n",
      "     |  strftime(...)\n",
      "     |      format -> strftime() style string.\n",
      "     |  \n",
      "     |  timetuple(...)\n",
      "     |      Return time tuple, compatible with time.localtime().\n",
      "     |  \n",
      "     |  toordinal(...)\n",
      "     |      Return proleptic Gregorian ordinal.  January 1 of year 1 is day 1.\n",
      "     |  \n",
      "     |  weekday(...)\n",
      "     |      Return the day of the week represented by the date.\n",
      "     |      Monday == 0 ... Sunday == 6\n",
      "     |  \n",
      "     |  ----------------------------------------------------------------------\n",
      "     |  Class methods defined here:\n",
      "     |  \n",
      "     |  fromisocalendar(...) from builtins.type\n",
      "     |      int, int, int -> Construct a date from the ISO year, week number and weekday.\n",
      "     |      \n",
      "     |      This is the inverse of the date.isocalendar() function\n",
      "     |  \n",
      "     |  fromisoformat(...) from builtins.type\n",
      "     |      str -> Construct a date from a string in ISO 8601 format.\n",
      "     |  \n",
      "     |  fromordinal(...) from builtins.type\n",
      "     |      int -> date corresponding to a proleptic Gregorian ordinal.\n",
      "     |  \n",
      "     |  fromtimestamp(timestamp, /) from builtins.type\n",
      "     |      Create a date from a POSIX timestamp.\n",
      "     |      \n",
      "     |      The timestamp is a number, e.g. created via time.time(), that is interpreted\n",
      "     |      as local time.\n",
      "     |  \n",
      "     |  today(...) from builtins.type\n",
      "     |      Current date or datetime:  same as self.__class__.fromtimestamp(time.time()).\n",
      "     |  \n",
      "     |  ----------------------------------------------------------------------\n",
      "     |  Static methods defined here:\n",
      "     |  \n",
      "     |  __new__(*args, **kwargs) from builtins.type\n",
      "     |      Create and return a new object.  See help(type) for accurate signature.\n",
      "     |  \n",
      "     |  ----------------------------------------------------------------------\n",
      "     |  Data descriptors defined here:\n",
      "     |  \n",
      "     |  day\n",
      "     |  \n",
      "     |  month\n",
      "     |  \n",
      "     |  year\n",
      "     |  \n",
      "     |  ----------------------------------------------------------------------\n",
      "     |  Data and other attributes defined here:\n",
      "     |  \n",
      "     |  max = datetime.date(9999, 12, 31)\n",
      "     |  \n",
      "     |  min = datetime.date(1, 1, 1)\n",
      "     |  \n",
      "     |  resolution = datetime.timedelta(days=1)\n",
      "    \n",
      "    class datetime(date)\n",
      "     |  datetime(year, month, day[, hour[, minute[, second[, microsecond[,tzinfo]]]]])\n",
      "     |  \n",
      "     |  The year, month and day arguments are required. tzinfo may be None, or an\n",
      "     |  instance of a tzinfo subclass. The remaining arguments may be ints.\n",
      "     |  \n",
      "     |  Method resolution order:\n",
      "     |      datetime\n",
      "     |      date\n",
      "     |      builtins.object\n",
      "     |  \n",
      "     |  Methods defined here:\n",
      "     |  \n",
      "     |  __add__(self, value, /)\n",
      "     |      Return self+value.\n",
      "     |  \n",
      "     |  __eq__(self, value, /)\n",
      "     |      Return self==value.\n",
      "     |  \n",
      "     |  __ge__(self, value, /)\n",
      "     |      Return self>=value.\n",
      "     |  \n",
      "     |  __getattribute__(self, name, /)\n",
      "     |      Return getattr(self, name).\n",
      "     |  \n",
      "     |  __gt__(self, value, /)\n",
      "     |      Return self>value.\n",
      "     |  \n",
      "     |  __hash__(self, /)\n",
      "     |      Return hash(self).\n",
      "     |  \n",
      "     |  __le__(self, value, /)\n",
      "     |      Return self<=value.\n",
      "     |  \n",
      "     |  __lt__(self, value, /)\n",
      "     |      Return self<value.\n",
      "     |  \n",
      "     |  __ne__(self, value, /)\n",
      "     |      Return self!=value.\n",
      "     |  \n",
      "     |  __radd__(self, value, /)\n",
      "     |      Return value+self.\n",
      "     |  \n",
      "     |  __reduce__(...)\n",
      "     |      __reduce__() -> (cls, state)\n",
      "     |  \n",
      "     |  __reduce_ex__(...)\n",
      "     |      __reduce_ex__(proto) -> (cls, state)\n",
      "     |  \n",
      "     |  __repr__(self, /)\n",
      "     |      Return repr(self).\n",
      "     |  \n",
      "     |  __rsub__(self, value, /)\n",
      "     |      Return value-self.\n",
      "     |  \n",
      "     |  __str__(self, /)\n",
      "     |      Return str(self).\n",
      "     |  \n",
      "     |  __sub__(self, value, /)\n",
      "     |      Return self-value.\n",
      "     |  \n",
      "     |  astimezone(...)\n",
      "     |      tz -> convert to local time in new timezone tz\n",
      "     |  \n",
      "     |  ctime(...)\n",
      "     |      Return ctime() style string.\n",
      "     |  \n",
      "     |  date(...)\n",
      "     |      Return date object with same year, month and day.\n",
      "     |  \n",
      "     |  dst(...)\n",
      "     |      Return self.tzinfo.dst(self).\n",
      "     |  \n",
      "     |  isoformat(...)\n",
      "     |      [sep] -> string in ISO 8601 format, YYYY-MM-DDT[HH[:MM[:SS[.mmm[uuu]]]]][+HH:MM].\n",
      "     |      sep is used to separate the year from the time, and defaults to 'T'.\n",
      "     |      The optional argument timespec specifies the number of additional terms\n",
      "     |      of the time to include. Valid options are 'auto', 'hours', 'minutes',\n",
      "     |      'seconds', 'milliseconds' and 'microseconds'.\n",
      "     |  \n",
      "     |  replace(...)\n",
      "     |      Return datetime with new specified fields.\n",
      "     |  \n",
      "     |  time(...)\n",
      "     |      Return time object with same time but with tzinfo=None.\n",
      "     |  \n",
      "     |  timestamp(...)\n",
      "     |      Return POSIX timestamp as float.\n",
      "     |  \n",
      "     |  timetuple(...)\n",
      "     |      Return time tuple, compatible with time.localtime().\n",
      "     |  \n",
      "     |  timetz(...)\n",
      "     |      Return time object with same time and tzinfo.\n",
      "     |  \n",
      "     |  tzname(...)\n",
      "     |      Return self.tzinfo.tzname(self).\n",
      "     |  \n",
      "     |  utcoffset(...)\n",
      "     |      Return self.tzinfo.utcoffset(self).\n",
      "     |  \n",
      "     |  utctimetuple(...)\n",
      "     |      Return UTC time tuple, compatible with time.localtime().\n",
      "     |  \n",
      "     |  ----------------------------------------------------------------------\n",
      "     |  Class methods defined here:\n",
      "     |  \n",
      "     |  combine(...) from builtins.type\n",
      "     |      date, time -> datetime with same date and time fields\n",
      "     |  \n",
      "     |  fromisoformat(...) from builtins.type\n",
      "     |      string -> datetime from a string in most ISO 8601 formats\n",
      "     |  \n",
      "     |  fromtimestamp(...) from builtins.type\n",
      "     |      timestamp[, tz] -> tz's local time from POSIX timestamp.\n",
      "     |  \n",
      "     |  now(tz=None) from builtins.type\n",
      "     |      Returns new datetime object representing current time local to tz.\n",
      "     |      \n",
      "     |        tz\n",
      "     |          Timezone object.\n",
      "     |      \n",
      "     |      If no tz is specified, uses local timezone.\n",
      "     |  \n",
      "     |  strptime(...) from builtins.type\n",
      "     |      string, format -> new datetime parsed from a string (like time.strptime()).\n",
      "     |  \n",
      "     |  utcfromtimestamp(...) from builtins.type\n",
      "     |      Construct a naive UTC datetime from a POSIX timestamp.\n",
      "     |  \n",
      "     |  utcnow(...) from builtins.type\n",
      "     |      Return a new datetime representing UTC day and time.\n",
      "     |  \n",
      "     |  ----------------------------------------------------------------------\n",
      "     |  Static methods defined here:\n",
      "     |  \n",
      "     |  __new__(*args, **kwargs) from builtins.type\n",
      "     |      Create and return a new object.  See help(type) for accurate signature.\n",
      "     |  \n",
      "     |  ----------------------------------------------------------------------\n",
      "     |  Data descriptors defined here:\n",
      "     |  \n",
      "     |  fold\n",
      "     |  \n",
      "     |  hour\n",
      "     |  \n",
      "     |  microsecond\n",
      "     |  \n",
      "     |  minute\n",
      "     |  \n",
      "     |  second\n",
      "     |  \n",
      "     |  tzinfo\n",
      "     |  \n",
      "     |  ----------------------------------------------------------------------\n",
      "     |  Data and other attributes defined here:\n",
      "     |  \n",
      "     |  max = datetime.datetime(9999, 12, 31, 23, 59, 59, 999999)\n",
      "     |  \n",
      "     |  min = datetime.datetime(1, 1, 1, 0, 0)\n",
      "     |  \n",
      "     |  resolution = datetime.timedelta(microseconds=1)\n",
      "     |  \n",
      "     |  ----------------------------------------------------------------------\n",
      "     |  Methods inherited from date:\n",
      "     |  \n",
      "     |  __format__(...)\n",
      "     |      Formats self with strftime.\n",
      "     |  \n",
      "     |  isocalendar(...)\n",
      "     |      Return a named tuple containing ISO year, week number, and weekday.\n",
      "     |  \n",
      "     |  isoweekday(...)\n",
      "     |      Return the day of the week represented by the date.\n",
      "     |      Monday == 1 ... Sunday == 7\n",
      "     |  \n",
      "     |  strftime(...)\n",
      "     |      format -> strftime() style string.\n",
      "     |  \n",
      "     |  toordinal(...)\n",
      "     |      Return proleptic Gregorian ordinal.  January 1 of year 1 is day 1.\n",
      "     |  \n",
      "     |  weekday(...)\n",
      "     |      Return the day of the week represented by the date.\n",
      "     |      Monday == 0 ... Sunday == 6\n",
      "     |  \n",
      "     |  ----------------------------------------------------------------------\n",
      "     |  Class methods inherited from date:\n",
      "     |  \n",
      "     |  fromisocalendar(...) from builtins.type\n",
      "     |      int, int, int -> Construct a date from the ISO year, week number and weekday.\n",
      "     |      \n",
      "     |      This is the inverse of the date.isocalendar() function\n",
      "     |  \n",
      "     |  fromordinal(...) from builtins.type\n",
      "     |      int -> date corresponding to a proleptic Gregorian ordinal.\n",
      "     |  \n",
      "     |  today(...) from builtins.type\n",
      "     |      Current date or datetime:  same as self.__class__.fromtimestamp(time.time()).\n",
      "     |  \n",
      "     |  ----------------------------------------------------------------------\n",
      "     |  Data descriptors inherited from date:\n",
      "     |  \n",
      "     |  day\n",
      "     |  \n",
      "     |  month\n",
      "     |  \n",
      "     |  year\n",
      "    \n",
      "    class time(builtins.object)\n",
      "     |  time([hour[, minute[, second[, microsecond[, tzinfo]]]]]) --> a time object\n",
      "     |  \n",
      "     |  All arguments are optional. tzinfo may be None, or an instance of\n",
      "     |  a tzinfo subclass. The remaining arguments may be ints.\n",
      "     |  \n",
      "     |  Methods defined here:\n",
      "     |  \n",
      "     |  __eq__(self, value, /)\n",
      "     |      Return self==value.\n",
      "     |  \n",
      "     |  __format__(...)\n",
      "     |      Formats self with strftime.\n",
      "     |  \n",
      "     |  __ge__(self, value, /)\n",
      "     |      Return self>=value.\n",
      "     |  \n",
      "     |  __getattribute__(self, name, /)\n",
      "     |      Return getattr(self, name).\n",
      "     |  \n",
      "     |  __gt__(self, value, /)\n",
      "     |      Return self>value.\n",
      "     |  \n",
      "     |  __hash__(self, /)\n",
      "     |      Return hash(self).\n",
      "     |  \n",
      "     |  __le__(self, value, /)\n",
      "     |      Return self<=value.\n",
      "     |  \n",
      "     |  __lt__(self, value, /)\n",
      "     |      Return self<value.\n",
      "     |  \n",
      "     |  __ne__(self, value, /)\n",
      "     |      Return self!=value.\n",
      "     |  \n",
      "     |  __reduce__(...)\n",
      "     |      __reduce__() -> (cls, state)\n",
      "     |  \n",
      "     |  __reduce_ex__(...)\n",
      "     |      __reduce_ex__(proto) -> (cls, state)\n",
      "     |  \n",
      "     |  __repr__(self, /)\n",
      "     |      Return repr(self).\n",
      "     |  \n",
      "     |  __str__(self, /)\n",
      "     |      Return str(self).\n",
      "     |  \n",
      "     |  dst(...)\n",
      "     |      Return self.tzinfo.dst(self).\n",
      "     |  \n",
      "     |  isoformat(...)\n",
      "     |      Return string in ISO 8601 format, [HH[:MM[:SS[.mmm[uuu]]]]][+HH:MM].\n",
      "     |      \n",
      "     |      The optional argument timespec specifies the number of additional terms\n",
      "     |      of the time to include. Valid options are 'auto', 'hours', 'minutes',\n",
      "     |      'seconds', 'milliseconds' and 'microseconds'.\n",
      "     |  \n",
      "     |  replace(...)\n",
      "     |      Return time with new specified fields.\n",
      "     |  \n",
      "     |  strftime(...)\n",
      "     |      format -> strftime() style string.\n",
      "     |  \n",
      "     |  tzname(...)\n",
      "     |      Return self.tzinfo.tzname(self).\n",
      "     |  \n",
      "     |  utcoffset(...)\n",
      "     |      Return self.tzinfo.utcoffset(self).\n",
      "     |  \n",
      "     |  ----------------------------------------------------------------------\n",
      "     |  Class methods defined here:\n",
      "     |  \n",
      "     |  fromisoformat(...) from builtins.type\n",
      "     |      string -> time from a string in ISO 8601 format\n",
      "     |  \n",
      "     |  ----------------------------------------------------------------------\n",
      "     |  Static methods defined here:\n",
      "     |  \n",
      "     |  __new__(*args, **kwargs) from builtins.type\n",
      "     |      Create and return a new object.  See help(type) for accurate signature.\n",
      "     |  \n",
      "     |  ----------------------------------------------------------------------\n",
      "     |  Data descriptors defined here:\n",
      "     |  \n",
      "     |  fold\n",
      "     |  \n",
      "     |  hour\n",
      "     |  \n",
      "     |  microsecond\n",
      "     |  \n",
      "     |  minute\n",
      "     |  \n",
      "     |  second\n",
      "     |  \n",
      "     |  tzinfo\n",
      "     |  \n",
      "     |  ----------------------------------------------------------------------\n",
      "     |  Data and other attributes defined here:\n",
      "     |  \n",
      "     |  max = datetime.time(23, 59, 59, 999999)\n",
      "     |  \n",
      "     |  min = datetime.time(0, 0)\n",
      "     |  \n",
      "     |  resolution = datetime.timedelta(microseconds=1)\n",
      "    \n",
      "    class timedelta(builtins.object)\n",
      "     |  Difference between two datetime values.\n",
      "     |  \n",
      "     |  timedelta(days=0, seconds=0, microseconds=0, milliseconds=0, minutes=0, hours=0, weeks=0)\n",
      "     |  \n",
      "     |  All arguments are optional and default to 0.\n",
      "     |  Arguments may be integers or floats, and may be positive or negative.\n",
      "     |  \n",
      "     |  Methods defined here:\n",
      "     |  \n",
      "     |  __abs__(self, /)\n",
      "     |      abs(self)\n",
      "     |  \n",
      "     |  __add__(self, value, /)\n",
      "     |      Return self+value.\n",
      "     |  \n",
      "     |  __bool__(self, /)\n",
      "     |      True if self else False\n",
      "     |  \n",
      "     |  __divmod__(self, value, /)\n",
      "     |      Return divmod(self, value).\n",
      "     |  \n",
      "     |  __eq__(self, value, /)\n",
      "     |      Return self==value.\n",
      "     |  \n",
      "     |  __floordiv__(self, value, /)\n",
      "     |      Return self//value.\n",
      "     |  \n",
      "     |  __ge__(self, value, /)\n",
      "     |      Return self>=value.\n",
      "     |  \n",
      "     |  __getattribute__(self, name, /)\n",
      "     |      Return getattr(self, name).\n",
      "     |  \n",
      "     |  __gt__(self, value, /)\n",
      "     |      Return self>value.\n",
      "     |  \n",
      "     |  __hash__(self, /)\n",
      "     |      Return hash(self).\n",
      "     |  \n",
      "     |  __le__(self, value, /)\n",
      "     |      Return self<=value.\n",
      "     |  \n",
      "     |  __lt__(self, value, /)\n",
      "     |      Return self<value.\n",
      "     |  \n",
      "     |  __mod__(self, value, /)\n",
      "     |      Return self%value.\n",
      "     |  \n",
      "     |  __mul__(self, value, /)\n",
      "     |      Return self*value.\n",
      "     |  \n",
      "     |  __ne__(self, value, /)\n",
      "     |      Return self!=value.\n",
      "     |  \n",
      "     |  __neg__(self, /)\n",
      "     |      -self\n",
      "     |  \n",
      "     |  __pos__(self, /)\n",
      "     |      +self\n",
      "     |  \n",
      "     |  __radd__(self, value, /)\n",
      "     |      Return value+self.\n",
      "     |  \n",
      "     |  __rdivmod__(self, value, /)\n",
      "     |      Return divmod(value, self).\n",
      "     |  \n",
      "     |  __reduce__(...)\n",
      "     |      __reduce__() -> (cls, state)\n",
      "     |  \n",
      "     |  __repr__(self, /)\n",
      "     |      Return repr(self).\n",
      "     |  \n",
      "     |  __rfloordiv__(self, value, /)\n",
      "     |      Return value//self.\n",
      "     |  \n",
      "     |  __rmod__(self, value, /)\n",
      "     |      Return value%self.\n",
      "     |  \n",
      "     |  __rmul__(self, value, /)\n",
      "     |      Return value*self.\n",
      "     |  \n",
      "     |  __rsub__(self, value, /)\n",
      "     |      Return value-self.\n",
      "     |  \n",
      "     |  __rtruediv__(self, value, /)\n",
      "     |      Return value/self.\n",
      "     |  \n",
      "     |  __str__(self, /)\n",
      "     |      Return str(self).\n",
      "     |  \n",
      "     |  __sub__(self, value, /)\n",
      "     |      Return self-value.\n",
      "     |  \n",
      "     |  __truediv__(self, value, /)\n",
      "     |      Return self/value.\n",
      "     |  \n",
      "     |  total_seconds(...)\n",
      "     |      Total seconds in the duration.\n",
      "     |  \n",
      "     |  ----------------------------------------------------------------------\n",
      "     |  Static methods defined here:\n",
      "     |  \n",
      "     |  __new__(*args, **kwargs) from builtins.type\n",
      "     |      Create and return a new object.  See help(type) for accurate signature.\n",
      "     |  \n",
      "     |  ----------------------------------------------------------------------\n",
      "     |  Data descriptors defined here:\n",
      "     |  \n",
      "     |  days\n",
      "     |      Number of days.\n",
      "     |  \n",
      "     |  microseconds\n",
      "     |      Number of microseconds (>= 0 and less than 1 second).\n",
      "     |  \n",
      "     |  seconds\n",
      "     |      Number of seconds (>= 0 and less than 1 day).\n",
      "     |  \n",
      "     |  ----------------------------------------------------------------------\n",
      "     |  Data and other attributes defined here:\n",
      "     |  \n",
      "     |  max = datetime.timedelta(days=999999999, seconds=86399, microseconds=9...\n",
      "     |  \n",
      "     |  min = datetime.timedelta(days=-999999999)\n",
      "     |  \n",
      "     |  resolution = datetime.timedelta(microseconds=1)\n",
      "    \n",
      "    class timezone(tzinfo)\n",
      "     |  Fixed offset from UTC implementation of tzinfo.\n",
      "     |  \n",
      "     |  Method resolution order:\n",
      "     |      timezone\n",
      "     |      tzinfo\n",
      "     |      builtins.object\n",
      "     |  \n",
      "     |  Methods defined here:\n",
      "     |  \n",
      "     |  __eq__(self, value, /)\n",
      "     |      Return self==value.\n",
      "     |  \n",
      "     |  __ge__(self, value, /)\n",
      "     |      Return self>=value.\n",
      "     |  \n",
      "     |  __getinitargs__(...)\n",
      "     |      pickle support\n",
      "     |  \n",
      "     |  __gt__(self, value, /)\n",
      "     |      Return self>value.\n",
      "     |  \n",
      "     |  __hash__(self, /)\n",
      "     |      Return hash(self).\n",
      "     |  \n",
      "     |  __le__(self, value, /)\n",
      "     |      Return self<=value.\n",
      "     |  \n",
      "     |  __lt__(self, value, /)\n",
      "     |      Return self<value.\n",
      "     |  \n",
      "     |  __ne__(self, value, /)\n",
      "     |      Return self!=value.\n",
      "     |  \n",
      "     |  __repr__(self, /)\n",
      "     |      Return repr(self).\n",
      "     |  \n",
      "     |  __str__(self, /)\n",
      "     |      Return str(self).\n",
      "     |  \n",
      "     |  dst(...)\n",
      "     |      Return None.\n",
      "     |  \n",
      "     |  fromutc(...)\n",
      "     |      datetime in UTC -> datetime in local time.\n",
      "     |  \n",
      "     |  tzname(...)\n",
      "     |      If name is specified when timezone is created, returns the name.  Otherwise returns offset as 'UTC(+|-)HH:MM'.\n",
      "     |  \n",
      "     |  utcoffset(...)\n",
      "     |      Return fixed offset.\n",
      "     |  \n",
      "     |  ----------------------------------------------------------------------\n",
      "     |  Static methods defined here:\n",
      "     |  \n",
      "     |  __new__(*args, **kwargs) from builtins.type\n",
      "     |      Create and return a new object.  See help(type) for accurate signature.\n",
      "     |  \n",
      "     |  ----------------------------------------------------------------------\n",
      "     |  Data and other attributes defined here:\n",
      "     |  \n",
      "     |  max = datetime.timezone(datetime.timedelta(seconds=86340))\n",
      "     |  \n",
      "     |  min = datetime.timezone(datetime.timedelta(days=-1, seconds=60))\n",
      "     |  \n",
      "     |  utc = datetime.timezone.utc\n",
      "     |  \n",
      "     |  ----------------------------------------------------------------------\n",
      "     |  Methods inherited from tzinfo:\n",
      "     |  \n",
      "     |  __getattribute__(self, name, /)\n",
      "     |      Return getattr(self, name).\n",
      "     |  \n",
      "     |  __reduce__(...)\n",
      "     |      -> (cls, state)\n",
      "    \n",
      "    class tzinfo(builtins.object)\n",
      "     |  Abstract base class for time zone info objects.\n",
      "     |  \n",
      "     |  Methods defined here:\n",
      "     |  \n",
      "     |  __getattribute__(self, name, /)\n",
      "     |      Return getattr(self, name).\n",
      "     |  \n",
      "     |  __reduce__(...)\n",
      "     |      -> (cls, state)\n",
      "     |  \n",
      "     |  dst(...)\n",
      "     |      datetime -> DST offset as timedelta positive east of UTC.\n",
      "     |  \n",
      "     |  fromutc(...)\n",
      "     |      datetime in UTC -> datetime in local time.\n",
      "     |  \n",
      "     |  tzname(...)\n",
      "     |      datetime -> string name of time zone.\n",
      "     |  \n",
      "     |  utcoffset(...)\n",
      "     |      datetime -> timedelta showing offset from UTC, negative values indicating West of UTC\n",
      "     |  \n",
      "     |  ----------------------------------------------------------------------\n",
      "     |  Static methods defined here:\n",
      "     |  \n",
      "     |  __new__(*args, **kwargs) from builtins.type\n",
      "     |      Create and return a new object.  See help(type) for accurate signature.\n",
      "\n",
      "DATA\n",
      "    MAXYEAR = 9999\n",
      "    MINYEAR = 1\n",
      "    UTC = datetime.timezone.utc\n",
      "    __all__ = ('date', 'datetime', 'time', 'timedelta', 'timezone', 'tzinf...\n",
      "\n",
      "FILE\n",
      "    c:\\users\\r.allegri\\appdata\\local\\anaconda3\\lib\\datetime.py\n",
      "\n",
      "\n"
     ]
    }
   ],
   "source": [
    "help(datetime)"
   ]
  },
  {
   "cell_type": "markdown",
   "id": "e60ccb3c",
   "metadata": {},
   "source": [
    "### Modulo math"
   ]
  },
  {
   "cell_type": "code",
   "execution_count": 97,
   "id": "a2423820",
   "metadata": {},
   "outputs": [],
   "source": [
    "from math import *"
   ]
  },
  {
   "cell_type": "code",
   "execution_count": 98,
   "id": "82e85939",
   "metadata": {},
   "outputs": [
    {
     "name": "stdout",
     "output_type": "stream",
     "text": [
      "8.0\n"
     ]
    }
   ],
   "source": [
    "print(pow(2,3))"
   ]
  },
  {
   "cell_type": "code",
   "execution_count": 99,
   "id": "6cfdcb93",
   "metadata": {},
   "outputs": [
    {
     "name": "stdout",
     "output_type": "stream",
     "text": [
      "3.0\n"
     ]
    }
   ],
   "source": [
    "print(log(8,2))"
   ]
  },
  {
   "cell_type": "code",
   "execution_count": 100,
   "id": "8745f9ee",
   "metadata": {},
   "outputs": [
    {
     "name": "stdout",
     "output_type": "stream",
     "text": [
      "120\n"
     ]
    }
   ],
   "source": [
    "print(factorial(5))"
   ]
  },
  {
   "cell_type": "code",
   "execution_count": 101,
   "id": "969dd139",
   "metadata": {},
   "outputs": [
    {
     "name": "stdout",
     "output_type": "stream",
     "text": [
      "6\n"
     ]
    }
   ],
   "source": [
    "print(floor(6.8))"
   ]
  },
  {
   "cell_type": "code",
   "execution_count": 102,
   "id": "482fb8b7",
   "metadata": {},
   "outputs": [
    {
     "name": "stdout",
     "output_type": "stream",
     "text": [
      "6\n"
     ]
    }
   ],
   "source": [
    "print(ceil(5.3))"
   ]
  },
  {
   "cell_type": "code",
   "execution_count": 103,
   "id": "1f7bb8f1",
   "metadata": {},
   "outputs": [
    {
     "name": "stdout",
     "output_type": "stream",
     "text": [
      "2.718281828459045\n"
     ]
    }
   ],
   "source": [
    "print(e)"
   ]
  },
  {
   "cell_type": "code",
   "execution_count": 104,
   "id": "13d674f1",
   "metadata": {},
   "outputs": [
    {
     "name": "stdout",
     "output_type": "stream",
     "text": [
      "6.283185307179586\n"
     ]
    }
   ],
   "source": [
    "print(tau)"
   ]
  },
  {
   "cell_type": "code",
   "execution_count": 105,
   "id": "567d06bb",
   "metadata": {},
   "outputs": [
    {
     "name": "stdout",
     "output_type": "stream",
     "text": [
      "True\n"
     ]
    }
   ],
   "source": [
    "print(isfinite(4))"
   ]
  },
  {
   "cell_type": "code",
   "execution_count": 107,
   "id": "70b76634",
   "metadata": {},
   "outputs": [
    {
     "name": "stdout",
     "output_type": "stream",
     "text": [
      "False\n"
     ]
    }
   ],
   "source": [
    "print(isinf(5))"
   ]
  },
  {
   "cell_type": "markdown",
   "id": "69b4d247",
   "metadata": {},
   "source": [
    "### Docstring"
   ]
  },
  {
   "cell_type": "code",
   "execution_count": 6,
   "id": "5bb34a98",
   "metadata": {},
   "outputs": [],
   "source": [
    "class A3:\n",
    "    \"\"\"\n",
    "    sono il docstring della classe A£\n",
    "    \"\"\"\n",
    "    \n",
    "    def __init__(self):\n",
    "        \"\"\"\n",
    "        sono il docstring del costruttore you mother suck a dick\n",
    "        \"\"\"\n",
    "        print(\"fuck your mother\")"
   ]
  },
  {
   "cell_type": "code",
   "execution_count": 7,
   "id": "69d9c2bf",
   "metadata": {},
   "outputs": [
    {
     "name": "stdout",
     "output_type": "stream",
     "text": [
      "Help on class A3 in module __main__:\n",
      "\n",
      "class A3(builtins.object)\n",
      " |  sono il docstring della classe A£\n",
      " |  \n",
      " |  Methods defined here:\n",
      " |  \n",
      " |  __init__(self)\n",
      " |      sono il docstring del costruttore you mother suck a dick\n",
      " |  \n",
      " |  ----------------------------------------------------------------------\n",
      " |  Data descriptors defined here:\n",
      " |  \n",
      " |  __dict__\n",
      " |      dictionary for instance variables (if defined)\n",
      " |  \n",
      " |  __weakref__\n",
      " |      list of weak references to the object (if defined)\n",
      "\n"
     ]
    }
   ],
   "source": [
    "help(A3)\n"
   ]
  },
  {
   "cell_type": "code",
   "execution_count": null,
   "id": "0dc58f94",
   "metadata": {},
   "outputs": [
    {
     "name": "stdout",
     "output_type": "stream",
     "text": [
      "\n",
      "The language doesn't matter, what matters is solving problems.\n",
      "\n",
      "The language doesn't matter, what matters is solving problems.\n",
      "\n",
      "The language doesn't matter, what matters is solving problems.\n"
     ]
    }
   ],
   "source": [
    "\n",
    "\n",
    "scelta = None\n",
    "\n",
    "while scelta != \"chiudi\":\n",
    "\n",
    "    scelta=input()\n",
    "    \n",
    "    match scelta:\n",
    "        case \"vendita\":\n",
    "            # registra una vendita\n",
    "            print(\"You can become a web developer.\")\n",
    "    \n",
    "        case \"profitti\":\n",
    "            # mostra profitti netti e lordi\n",
    "            print(\"You can become a Data Scientist\")\n",
    "    \n",
    "        case \"aggiungi\":\n",
    "            # aggiungi un prodotto al magazzino\n",
    "            print(\"You can become a backend developer\")\n",
    "        \n",
    "        case \"elenca\":\n",
    "            # elenca tutti i prodotti nel magazzino\n",
    "            print(\"You can become a Blockchain developer\")\n",
    "    \n",
    "        case \"aiuto\":\n",
    "            # mostra i possibili comandi\n",
    "            print(\"You can become a mobile app developer\")\n",
    "        \n",
    "        case \"chiudi\":\n",
    "            # saluta e interrompi il programma\n",
    "            print(\"You can become a mobile app developer\")\n",
    "            \n",
    "        case _:\n",
    "            # comando non valido\n",
    "            print(\"The language doesn't matter, what matters is solving problems.\")\n"
   ]
  },
  {
   "cell_type": "code",
   "execution_count": 8,
   "id": "be5162b6",
   "metadata": {},
   "outputs": [
    {
     "name": "stdout",
     "output_type": "stream",
     "text": [
      "3\n"
     ]
    }
   ],
   "source": [
    "def fff(**kwargs):\n",
    "\n",
    "    print(len(kwargs))\n",
    "        \n",
    "fff(a=1, aa=2, aaa=3)"
   ]
  },
  {
   "cell_type": "code",
   "execution_count": 33,
   "id": "b7c36cdc",
   "metadata": {},
   "outputs": [
    {
     "name": "stdout",
     "output_type": "stream",
     "text": [
      "True\n"
     ]
    }
   ],
   "source": [
    "print(bool(\"No\"))"
   ]
  },
  {
   "cell_type": "code",
   "execution_count": 150,
   "id": "69b067cb",
   "metadata": {},
   "outputs": [],
   "source": [
    "ls=[(\"a\",1), (\"b\",2), (\"b\",2), (\"c\",2), (\"b\",2), (\"a\",7), (\"j\", 2)]"
   ]
  },
  {
   "cell_type": "code",
   "execution_count": 151,
   "id": "b978bce7",
   "metadata": {},
   "outputs": [],
   "source": [
    "def delete_duplicate(obj):\n",
    "    \n",
    "    temp_dict = {}\n",
    "    \n",
    "    i = 0\n",
    "    while i < len(obj):\n",
    "        temp_dict[obj[i][0]] = obj[i][1]\n",
    "\n",
    "        j = i + 1\n",
    "        while j < len(obj):\n",
    "            if obj[i][0] == obj[j][0]:\n",
    "                temp_dict[obj[i][0]] += obj[j][1]\n",
    "                obj.pop(j)\n",
    "            else:\n",
    "                j += 1\n",
    "            \n",
    "\n",
    "        i += 1\n",
    "        \n",
    "    print(len(obj))\n",
    "         \n",
    "                \n",
    "    return temp_dict"
   ]
  },
  {
   "cell_type": "code",
   "execution_count": 152,
   "id": "f9edd780",
   "metadata": {},
   "outputs": [
    {
     "name": "stdout",
     "output_type": "stream",
     "text": [
      "4\n"
     ]
    }
   ],
   "source": [
    "\n",
    "ris = delete_duplicate(ls)"
   ]
  },
  {
   "cell_type": "code",
   "execution_count": 153,
   "id": "cf311e3b",
   "metadata": {},
   "outputs": [
    {
     "data": {
      "text/plain": [
       "[('a', 1), ('b', 2), ('c', 2), ('j', 2)]"
      ]
     },
     "execution_count": 153,
     "metadata": {},
     "output_type": "execute_result"
    }
   ],
   "source": [
    "ls"
   ]
  },
  {
   "cell_type": "code",
   "execution_count": 154,
   "id": "9693b63d",
   "metadata": {},
   "outputs": [
    {
     "data": {
      "text/plain": [
       "{'a': 8, 'b': 6, 'c': 2, 'j': 2}"
      ]
     },
     "execution_count": 154,
     "metadata": {},
     "output_type": "execute_result"
    }
   ],
   "source": [
    "ris"
   ]
  },
  {
   "cell_type": "code",
   "execution_count": 5,
   "id": "701c47cf",
   "metadata": {},
   "outputs": [
    {
     "data": {
      "text/plain": [
       "{'a': (1, 2, 3), 'b': (1, 2, 3), 'd': (1, 2, 3)}"
      ]
     },
     "execution_count": 5,
     "metadata": {},
     "output_type": "execute_result"
    }
   ],
   "source": [
    "diz={\"a\":(1,2,3), \"b\":(1,2,3), \"d\":(1,2,3)}\n",
    "diz"
   ]
  },
  {
   "cell_type": "code",
   "execution_count": 11,
   "id": "6771a09b",
   "metadata": {},
   "outputs": [
    {
     "ename": "TypeError",
     "evalue": "'tuple' object does not support item assignment",
     "output_type": "error",
     "traceback": [
      "\u001b[1;31m---------------------------------------------------------------------------\u001b[0m",
      "\u001b[1;31mTypeError\u001b[0m                                 Traceback (most recent call last)",
      "Cell \u001b[1;32mIn[11], line 1\u001b[0m\n\u001b[1;32m----> 1\u001b[0m diz[\u001b[38;5;124m\"\u001b[39m\u001b[38;5;124ma\u001b[39m\u001b[38;5;124m\"\u001b[39m][\u001b[38;5;241m1\u001b[39m]\u001b[38;5;241m=\u001b[39m(\u001b[38;5;241m1\u001b[39m,\u001b[38;5;241m2\u001b[39m,\u001b[38;5;241m3\u001b[39m)\n",
      "\u001b[1;31mTypeError\u001b[0m: 'tuple' object does not support item assignment"
     ]
    }
   ],
   "source": [
    "diz[\"a\"][1]=(1,2,3)"
   ]
  },
  {
   "cell_type": "code",
   "execution_count": 14,
   "id": "3eab2d3a",
   "metadata": {},
   "outputs": [],
   "source": [
    "a={}\n",
    "if \"a\" in a:\n",
    "    print(\"true\")"
   ]
  },
  {
   "cell_type": "code",
   "execution_count": null,
   "id": "80b50daa",
   "metadata": {},
   "outputs": [],
   "source": []
  },
  {
   "cell_type": "code",
   "execution_count": null,
   "id": "89a8b515",
   "metadata": {},
   "outputs": [],
   "source": []
  }
 ],
 "metadata": {
  "kernelspec": {
   "display_name": "Python 3 (ipykernel)",
   "language": "python",
   "name": "python3"
  },
  "language_info": {
   "codemirror_mode": {
    "name": "ipython",
    "version": 3
   },
   "file_extension": ".py",
   "mimetype": "text/x-python",
   "name": "python",
   "nbconvert_exporter": "python",
   "pygments_lexer": "ipython3",
   "version": "3.11.5"
  }
 },
 "nbformat": 4,
 "nbformat_minor": 5
}
